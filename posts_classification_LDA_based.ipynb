{
 "cells": [
  {
   "cell_type": "code",
   "execution_count": 1,
   "metadata": {},
   "outputs": [],
   "source": [
    "# Importing libs\n",
    "import re\n",
    "import nltk\n",
    "import transformers\n",
    "import gensim.downloader as gensim_api\n",
    "import pandas as pd\n",
    "import numpy as np\n",
    "import seaborn as sns\n",
    "import matplotlib.pyplot as plt\n",
    "from sklearn import metrics, manifold"
   ]
  },
  {
   "cell_type": "code",
   "execution_count": 2,
   "metadata": {},
   "outputs": [],
   "source": [
    "# Read data\n",
    "dtf = pd.read_csv('posts.csv')"
   ]
  },
  {
   "cell_type": "code",
   "execution_count": 4,
   "metadata": {},
   "outputs": [
    {
     "data": {
      "text/html": [
       "<div>\n",
       "<style scoped>\n",
       "    .dataframe tbody tr th:only-of-type {\n",
       "        vertical-align: middle;\n",
       "    }\n",
       "\n",
       "    .dataframe tbody tr th {\n",
       "        vertical-align: top;\n",
       "    }\n",
       "\n",
       "    .dataframe thead th {\n",
       "        text-align: right;\n",
       "    }\n",
       "</style>\n",
       "<table border=\"1\" class=\"dataframe\">\n",
       "  <thead>\n",
       "    <tr style=\"text-align: right;\">\n",
       "      <th></th>\n",
       "      <th>id</th>\n",
       "      <th>title</th>\n",
       "      <th>selftext</th>\n",
       "      <th>clear_text</th>\n",
       "    </tr>\n",
       "  </thead>\n",
       "  <tbody>\n",
       "    <tr>\n",
       "      <th>0</th>\n",
       "      <td>27lq60</td>\n",
       "      <td>How is your day today?</td>\n",
       "      <td></td>\n",
       "      <td>How is your day today?</td>\n",
       "    </tr>\n",
       "    <tr>\n",
       "      <th>1</th>\n",
       "      <td>27qt66</td>\n",
       "      <td>Look &amp;amp; Feel of the subreddit; Suggestions ...</td>\n",
       "      <td>I'm changing some of the look and feel and try...</td>\n",
       "      <td>Look &amp;amp; Feel of the subreddit; Suggestions ...</td>\n",
       "    </tr>\n",
       "    <tr>\n",
       "      <th>2</th>\n",
       "      <td>27r2gs</td>\n",
       "      <td>Man I can't wait for all these new games, E3 w...</td>\n",
       "      <td>That No Mans Sky looks great.</td>\n",
       "      <td>Man I can't wait for all these new games, E3 w...</td>\n",
       "    </tr>\n",
       "    <tr>\n",
       "      <th>3</th>\n",
       "      <td>27sdtf</td>\n",
       "      <td>What are you doing right now? or What do you w...</td>\n",
       "      <td></td>\n",
       "      <td>What are you doing right now? or What do you w...</td>\n",
       "    </tr>\n",
       "    <tr>\n",
       "      <th>4</th>\n",
       "      <td>27uyyb</td>\n",
       "      <td>What do you do if someone asks you \"what's up\"...</td>\n",
       "      <td></td>\n",
       "      <td>What do you do if someone asks you \"what's up\"...</td>\n",
       "    </tr>\n",
       "  </tbody>\n",
       "</table>\n",
       "</div>"
      ],
      "text/plain": [
       "       id                                              title  \\\n",
       "0  27lq60                             How is your day today?   \n",
       "1  27qt66  Look &amp; Feel of the subreddit; Suggestions ...   \n",
       "2  27r2gs  Man I can't wait for all these new games, E3 w...   \n",
       "3  27sdtf  What are you doing right now? or What do you w...   \n",
       "4  27uyyb  What do you do if someone asks you \"what's up\"...   \n",
       "\n",
       "                                            selftext  \\\n",
       "0                                                      \n",
       "1  I'm changing some of the look and feel and try...   \n",
       "2                      That No Mans Sky looks great.   \n",
       "3                                                      \n",
       "4                                                      \n",
       "\n",
       "                                          clear_text  \n",
       "0                            How is your day today?   \n",
       "1  Look &amp; Feel of the subreddit; Suggestions ...  \n",
       "2  Man I can't wait for all these new games, E3 w...  \n",
       "3  What are you doing right now? or What do you w...  \n",
       "4  What do you do if someone asks you \"what's up\"...  "
      ]
     },
     "execution_count": 4,
     "metadata": {},
     "output_type": "execute_result"
    }
   ],
   "source": [
    "dtf = dtf[['id', 'title', 'selftext']]\n",
    "dtf = dtf.fillna('')\n",
    "dtf['clear_text'] = dtf[[\"title\", \"selftext\"]].apply(\" \".join, axis=1)\n",
    "dtf.head()"
   ]
  },
  {
   "cell_type": "code",
   "execution_count": 5,
   "metadata": {},
   "outputs": [],
   "source": [
    "# Text preprocessing\n",
    "def preprocess_text(text, stemm=False, lemm=True, stopwords=None):\n",
    "    # Remove punctuations, lowercase, strip\n",
    "    text = re.sub(r'[^\\w\\s]', '', str(text).lower().strip())\n",
    "            \n",
    "    # Tokenize\n",
    "    texts = text.split()    \n",
    "    # Remove Stopwords\n",
    "    if stopwords is not None:\n",
    "        texts = [word for word in texts if word not in stopwords]\n",
    "                \n",
    "    # Stemming\n",
    "    if stemm == True:\n",
    "        ps = nltk.stem.porter.PorterStemmer()\n",
    "        texts = [ps.stem(word) for word in texts]\n",
    "                \n",
    "    # Lemmatization\n",
    "    if lemm == True:\n",
    "        lem = nltk.stem.wordnet.WordNetLemmatizer()\n",
    "        texts = [lem.lemmatize(word) for word in texts]\n",
    "            \n",
    "    # Collect lists\n",
    "    text = \" \".join(texts)\n",
    "    return text"
   ]
  },
  {
   "cell_type": "code",
   "execution_count": 6,
   "metadata": {},
   "outputs": [],
   "source": [
    "# Loading stopwords dict\n",
    "stopwords = nltk.corpus.stopwords.words(\"english\")"
   ]
  },
  {
   "cell_type": "code",
   "execution_count": 100,
   "metadata": {},
   "outputs": [
    {
     "name": "stderr",
     "output_type": "stream",
     "text": [
      "C:\\Users\\sorok\\AppData\\Local\\Temp\\ipykernel_14192\\812968039.py:2: SettingWithCopyWarning: \n",
      "A value is trying to be set on a copy of a slice from a DataFrame.\n",
      "Try using .loc[row_indexer,col_indexer] = value instead\n",
      "\n",
      "See the caveats in the documentation: https://pandas.pydata.org/pandas-docs/stable/user_guide/indexing.html#returning-a-view-versus-a-copy\n",
      "  dtf[\"clean\"] = dtf[\"clear_text\"].apply(lambda x:\n"
     ]
    }
   ],
   "source": [
    "# Doint preprocessing on texts\n",
    "dtf[\"clean\"] = dtf[\"clear_text\"].apply(lambda x: \n",
    "          preprocess_text(x, stemm=False, lemm=True, stopwords=stopwords))"
   ]
  },
  {
   "cell_type": "code",
   "execution_count": 89,
   "metadata": {},
   "outputs": [],
   "source": [
    "nan_value = float(\"NaN\")\n",
    "dtf.replace(\"\", nan_value, inplace=True)"
   ]
  },
  {
   "cell_type": "code",
   "execution_count": 105,
   "metadata": {},
   "outputs": [],
   "source": [
    "dtf = dtf[dtf.clean != '']"
   ]
  },
  {
   "cell_type": "code",
   "execution_count": 57,
   "metadata": {},
   "outputs": [],
   "source": [
    "newlist = []\n",
    "for i in clean_data:\n",
    "    newlist.append(i.split())\n"
   ]
  },
  {
   "cell_type": "code",
   "execution_count": 62,
   "metadata": {},
   "outputs": [],
   "source": [
    "newlist2 = []\n",
    "for i in newlist:\n",
    "    microlist = []\n",
    "    for num,j in enumerate(i):\n",
    "        if num <= 511:\n",
    "            microlist.append(j.replace('_',' '))\n",
    "    if microlist != '':\n",
    "        newlist2.append(' '.join(microlist))"
   ]
  },
  {
   "cell_type": "code",
   "execution_count": 67,
   "metadata": {},
   "outputs": [],
   "source": [
    "newlist3 = []\n",
    "for i in newlist2:\n",
    "    if i != '':\n",
    "        newlist3.append(i)"
   ]
  },
  {
   "cell_type": "code",
   "execution_count": 8,
   "metadata": {},
   "outputs": [],
   "source": [
    "# Loading glove-twitter-200 model\n",
    "glove_twitter_200 = gensim_api.load('glove-twitter-200')\n",
    "#gensim_api.info()"
   ]
  },
  {
   "cell_type": "code",
   "execution_count": 9,
   "metadata": {},
   "outputs": [
    {
     "name": "stdout",
     "output_type": "stream",
     "text": [
      "RELATIONSHIPS :  ['relationship', 'talk', 'meet', 'person', 'friend', 'people', 'love', 'feel', 'guy', 'date', 'girl']\n",
      "ACTIVITIES :  ['interview', 'work', 'company', 'car', 'pay', 'game', 'apply', 'university', 'student', 'job', 'school', 'money', 'class', 'drive', 'college']\n",
      "FOODS :  ['tea', 'breakfast', 'drink', 'pizza', 'water', 'coffee', 'dinner', 'cook', 'beer', 'food', 'eat']\n"
     ]
    }
   ],
   "source": [
    "# Get semantically similiar words by using most_similar method\n",
    "def most_similar_method(input_words, amount, model):\n",
    "\n",
    "    # Words we would like to dodge\n",
    "    unwanted = [\"n't\"]\n",
    "\n",
    "    # Saving given words\n",
    "    final_words = input_words\n",
    "\n",
    "    # Adding created words to the list\n",
    "    for topn_words in model.most_similar(input_words, topn=amount):\n",
    "        if topn_words[0] not in unwanted:\n",
    "            final_words.append(topn_words[0])\n",
    "    return list(set(final_words))\n",
    "\n",
    "## Create Dictionary {category:[keywords]}\n",
    "target_topics = {}\n",
    "\n",
    "target_topics[\"RELATIONSHIPS\"] = most_similar_method(['friend', 'feel', 'people', 'talk', 'girl', 'love', 'meet', 'person', 'relationship', 'guy', 'date'], amount=0, model=glove_twitter_200)\n",
    "target_topics[\"ACTIVITIES\"] = most_similar_method(['job', 'work', 'pay', 'money', 'interview', 'apply', 'car', 'game', 'drive', 'school', 'college', 'class', 'company', 'student', 'university'], amount=0, model=glove_twitter_200)\n",
    "target_topics[\"FOODS\"] = most_similar_method(['breakfast', 'beer', 'eat', 'drink', 'food', 'water', 'coffee', 'dinner', 'pizza', 'cook', 'tea'], amount=0, model=glove_twitter_200)\n",
    "\n",
    "\n",
    "# Remove specific words from specific dicts\n",
    "#target_topics[\"ECONOMY\"].remove('government')\n",
    "\n",
    "# Check the result\n",
    "for k,v in target_topics.items():\n",
    "    print(k, \": \", v[:])"
   ]
  },
  {
   "cell_type": "code",
   "execution_count": 22,
   "metadata": {},
   "outputs": [
    {
     "name": "stderr",
     "output_type": "stream",
     "text": [
      "c:\\Users\\sorok\\AppData\\Local\\Programs\\Python\\Python39\\lib\\site-packages\\sklearn\\manifold\\_t_sne.py:790: FutureWarning: The default learning rate in TSNE will change from 200.0 to 'auto' in 1.2.\n",
      "  warnings.warn(\n",
      "c:\\Users\\sorok\\AppData\\Local\\Programs\\Python\\Python39\\lib\\site-packages\\sklearn\\manifold\\_t_sne.py:982: FutureWarning: The PCA initialization in TSNE will change to have the standard deviation of PC1 equal to 1e-4 in 1.2. This will ensure better convergence.\n",
      "  warnings.warn(\n",
      "C:\\Users\\sorok\\AppData\\Local\\Temp\\ipykernel_14192\\1487596304.py:15: FutureWarning: The frame.append method is deprecated and will be removed from pandas in a future version. Use pandas.concat instead.\n",
      "  vis_df = vis_df.append(vis_df_group)\n",
      "C:\\Users\\sorok\\AppData\\Local\\Temp\\ipykernel_14192\\1487596304.py:15: FutureWarning: The frame.append method is deprecated and will be removed from pandas in a future version. Use pandas.concat instead.\n",
      "  vis_df = vis_df.append(vis_df_group)\n",
      "C:\\Users\\sorok\\AppData\\Local\\Temp\\ipykernel_14192\\1487596304.py:15: FutureWarning: The frame.append method is deprecated and will be removed from pandas in a future version. Use pandas.concat instead.\n",
      "  vis_df = vis_df.append(vis_df_group)\n"
     ]
    },
    {
     "data": {
      "image/png": "[encoded data removed]",
      "text/plain": [
       "<Figure size 576x576 with 1 Axes>"
      ]
     },
     "metadata": {},
     "output_type": "display_data"
    }
   ],
   "source": [
    "# Word embedding\n",
    "embed_words = [word for x in target_topics.values() for word in x]\n",
    "vectors_glove_twitter_200 = glove_twitter_200[embed_words]\n",
    "        \n",
    "# PCA\n",
    "pca = manifold.TSNE(perplexity=10, n_components=2, init='pca')\n",
    "vectors_glove_twitter_200 = pca.fit_transform(vectors_glove_twitter_200)\n",
    "\n",
    "# Create dtf\n",
    "vis_df = pd.DataFrame()\n",
    "for k,v in target_topics.items():\n",
    "    size = len(vis_df) + len(v)\n",
    "    vis_df_group = pd.DataFrame(vectors_glove_twitter_200[len(vis_df):size], columns=[\"x\",\"y\"], index=v)\n",
    "    vis_df_group[\"Topics:\"] = k\n",
    "    vis_df = vis_df.append(vis_df_group)\n",
    "        \n",
    "# Plotting\n",
    "fig, ax = plt.subplots(figsize=(8,8))\n",
    "sns.scatterplot(data=vis_df, x=\"x\", y=\"y\", hue=\"Topics:\", ax=ax)\n",
    "ax.set(xlabel=None, ylabel=None, xticks=[], xticklabels=[], yticks=[], yticklabels=[])\n",
    "\n",
    "for i in range(len(vis_df)):\n",
    "    ax.annotate(vis_df.index[i], xy=(vis_df[\"x\"].iloc[i],vis_df[\"y\"].iloc[i]), \n",
    "               xytext=(5,2), textcoords='offset points')"
   ]
  },
  {
   "cell_type": "code",
   "execution_count": 23,
   "metadata": {},
   "outputs": [
    {
     "name": "stderr",
     "output_type": "stream",
     "text": [
      "The tokenizer class you load from this checkpoint is not the same type as the class this function is called from. It may result in unexpected tokenization. \n",
      "The tokenizer class you load from this checkpoint is 'DistilBertTokenizer'. \n",
      "The class this function is called from is 'BertTokenizer'.\n",
      "You are using a model of type distilbert to instantiate a model of type bert. This is not supported for all configurations of models and can yield errors.\n",
      "Some layers from the model checkpoint at distilbert-base-uncased-finetuned-sst-2-english were not used when initializing TFBertModel: ['pre_classifier', 'distilbert', 'dropout_19', 'classifier']\n",
      "- This IS expected if you are initializing TFBertModel from the checkpoint of a model trained on another task or with another architecture (e.g. initializing a BertForSequenceClassification model from a BertForPreTraining model).\n",
      "- This IS NOT expected if you are initializing TFBertModel from the checkpoint of a model that you expect to be exactly identical (initializing a BertForSequenceClassification model from a BertForSequenceClassification model).\n",
      "Some layers of TFBertModel were not initialized from the model checkpoint at distilbert-base-uncased-finetuned-sst-2-english and are newly initialized: ['bert']\n",
      "You should probably TRAIN this model on a down-stream task to be able to use it for predictions and inference.\n"
     ]
    }
   ],
   "source": [
    "# Loading BERT tokenizer and pretrained model\n",
    "bert_tokenizer = transformers.BertTokenizer.from_pretrained('distilbert-base-uncased-finetuned-sst-2-english', do_lower_case=True)\n",
    "bert_model = transformers.TFBertModel.from_pretrained('distilbert-base-uncased-finetuned-sst-2-english')"
   ]
  },
  {
   "cell_type": "code",
   "execution_count": 24,
   "metadata": {},
   "outputs": [],
   "source": [
    "# BERT embedding func\n",
    "def bert_embedding(txt, tokenizer, model):\n",
    "    idx = tokenizer.encode(txt)\n",
    "    idx = np.array(idx)[None,:]  \n",
    "    embedding = model(idx)\n",
    "    final_vectors = np.array(embedding[0][0][1:-1])\n",
    "    return final_vectors"
   ]
  },
  {
   "cell_type": "code",
   "execution_count": 70,
   "metadata": {},
   "outputs": [],
   "source": [
    "# BERT N x 768 matrix of vectors\n",
    "vectors_bert = np.array([bert_embedding(txt, bert_tokenizer, bert_model).mean(0) for txt in newlist3])"
   ]
  },
  {
   "cell_type": "code",
   "execution_count": 71,
   "metadata": {},
   "outputs": [],
   "source": [
    "# Saving/loading results\n",
    "np.save('titles_vectors', vectors_bert)\n",
    "#vectors_bert = np.load('titles_vectors.npy')"
   ]
  },
  {
   "cell_type": "code",
   "execution_count": 72,
   "metadata": {},
   "outputs": [],
   "source": [
    "# Doing embedding on topics as well\n",
    "embed_topics = {k:bert_embedding(v, bert_tokenizer, bert_model).mean(0) for k,v in target_topics.items()}\n",
    "\n",
    "# Cosine similarities\n",
    "predicted_prob = np.array([metrics.pairwise.cosine_similarity(vectors_bert, embed_topic.reshape(1, -1)).T.tolist()[0] for embed_topic in embed_topics.values()]).T\n",
    "\n",
    "# List of topics\n",
    "topics = list(embed_topics.keys())\n",
    "\n",
    "# Classify the label with the highest cosine_similarity score\n",
    "predicted = [topics[np.argmax(pred)] for pred in predicted_prob]"
   ]
  },
  {
   "cell_type": "code",
   "execution_count": 83,
   "metadata": {},
   "outputs": [],
   "source": [
    "# Saving/loading results\n",
    "np.save('predicted_topics.npy', predicted)\n",
    "#predicted = np.load('predicted_topics.npy')"
   ]
  },
  {
   "cell_type": "code",
   "execution_count": 109,
   "metadata": {},
   "outputs": [
    {
     "name": "stderr",
     "output_type": "stream",
     "text": [
      "C:\\Users\\sorok\\AppData\\Local\\Temp\\ipykernel_14192\\1218170768.py:2: SettingWithCopyWarning: \n",
      "A value is trying to be set on a copy of a slice from a DataFrame.\n",
      "Try using .loc[row_indexer,col_indexer] = value instead\n",
      "\n",
      "See the caveats in the documentation: https://pandas.pydata.org/pandas-docs/stable/user_guide/indexing.html#returning-a-view-versus-a-copy\n",
      "  dtf['label'] = predicted\n"
     ]
    },
    {
     "data": {
      "text/html": [
       "<div>\n",
       "<style scoped>\n",
       "    .dataframe tbody tr th:only-of-type {\n",
       "        vertical-align: middle;\n",
       "    }\n",
       "\n",
       "    .dataframe tbody tr th {\n",
       "        vertical-align: top;\n",
       "    }\n",
       "\n",
       "    .dataframe thead th {\n",
       "        text-align: right;\n",
       "    }\n",
       "</style>\n",
       "<table border=\"1\" class=\"dataframe\">\n",
       "  <thead>\n",
       "    <tr style=\"text-align: right;\">\n",
       "      <th></th>\n",
       "      <th>clean</th>\n",
       "      <th>id</th>\n",
       "      <th>label</th>\n",
       "    </tr>\n",
       "  </thead>\n",
       "  <tbody>\n",
       "    <tr>\n",
       "      <th>10169</th>\n",
       "      <td>anyone else hate reddits mobile app ive tried ...</td>\n",
       "      <td>362z53</td>\n",
       "      <td>RELATIONSHIPS</td>\n",
       "    </tr>\n",
       "    <tr>\n",
       "      <th>63931</th>\n",
       "      <td>birthday one care 37th birthday hospital time ...</td>\n",
       "      <td>j8rx9w</td>\n",
       "      <td>ACTIVITIES</td>\n",
       "    </tr>\n",
       "    <tr>\n",
       "      <th>45392</th>\n",
       "      <td>looking conversation help stave overnight bore...</td>\n",
       "      <td>9wnc4a</td>\n",
       "      <td>ACTIVITIES</td>\n",
       "    </tr>\n",
       "    <tr>\n",
       "      <th>19682</th>\n",
       "      <td>book reading currently im loving latest earnes...</td>\n",
       "      <td>45sn9a</td>\n",
       "      <td>ACTIVITIES</td>\n",
       "    </tr>\n",
       "    <tr>\n",
       "      <th>35624</th>\n",
       "      <td>whats best thing youve ever found thrift store...</td>\n",
       "      <td>7dvx52</td>\n",
       "      <td>ACTIVITIES</td>\n",
       "    </tr>\n",
       "  </tbody>\n",
       "</table>\n",
       "</div>"
      ],
      "text/plain": [
       "                                                   clean      id  \\\n",
       "10169  anyone else hate reddits mobile app ive tried ...  362z53   \n",
       "63931  birthday one care 37th birthday hospital time ...  j8rx9w   \n",
       "45392  looking conversation help stave overnight bore...  9wnc4a   \n",
       "19682  book reading currently im loving latest earnes...  45sn9a   \n",
       "35624  whats best thing youve ever found thrift store...  7dvx52   \n",
       "\n",
       "               label  \n",
       "10169  RELATIONSHIPS  \n",
       "63931     ACTIVITIES  \n",
       "45392     ACTIVITIES  \n",
       "19682     ACTIVITIES  \n",
       "35624     ACTIVITIES  "
      ]
     },
     "execution_count": 109,
     "metadata": {},
     "output_type": "execute_result"
    }
   ],
   "source": [
    "# Example of classified news\n",
    "dtf['label'] = predicted\n",
    "#pd.set_option('display.max_colwidth', None)\n",
    "dtf.sample(5)"
   ]
  },
  {
   "cell_type": "code",
   "execution_count": 108,
   "metadata": {},
   "outputs": [],
   "source": [
    "classified_posts = dtf[['id','label']]"
   ]
  },
  {
   "cell_type": "code",
   "execution_count": 110,
   "metadata": {},
   "outputs": [],
   "source": [
    "classified_posts.to_csv('classified_posts.csv', index=False)"
   ]
  }
 ],
 "metadata": {
  "interpreter": {
   "hash": "71ff87c67ba816b6af4ee8e83b06c07dc669ccb76fd16d8077dc452b70bfd898"
  },
  "kernelspec": {
   "display_name": "Python 3.9.0 64-bit",
   "language": "python",
   "name": "python3"
  },
  "language_info": {
   "codemirror_mode": {
    "name": "ipython",
    "version": 3
   },
   "file_extension": ".py",
   "mimetype": "text/x-python",
   "name": "python",
   "nbconvert_exporter": "python",
   "pygments_lexer": "ipython3",
   "version": "3.9.0"
  },
  "orig_nbformat": 4
 },
 "nbformat": 4,
 "nbformat_minor": 2
}
