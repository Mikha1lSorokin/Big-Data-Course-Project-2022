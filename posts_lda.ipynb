{
 "cells": [
  {
   "cell_type": "code",
   "execution_count": 1,
   "metadata": {},
   "outputs": [],
   "source": [
    "# Importing libs\n",
    "import pandas as pd\n",
    "import numpy as np\n",
    "import re\n",
    "import tqdm\n",
    "import gensim\n",
    "import gensim.corpora as corpora\n",
    "from gensim.models import CoherenceModel\n",
    "from gensim.utils import simple_preprocess\n",
    "import spacy\n",
    "import pyLDAvis\n",
    "import pyLDAvis.gensim_models\n",
    "import nltk\n",
    "from nltk.corpus import stopwords"
   ]
  },
  {
   "cell_type": "code",
   "execution_count": 2,
   "metadata": {},
   "outputs": [],
   "source": [
    "# Read data\n",
    "dtf = pd.read_csv('Posts.csv')\n",
    "emotions_df = pd.read_csv('comments_emotions.csv')"
   ]
  },
  {
   "cell_type": "code",
   "execution_count": 3,
   "metadata": {},
   "outputs": [],
   "source": [
    "#dtf = dtf[dtf.id.isin(emotions_df.link_id.unique().tolist())]"
   ]
  },
  {
   "cell_type": "code",
   "execution_count": 5,
   "metadata": {},
   "outputs": [
    {
     "data": {
      "text/html": [
       "<div>\n",
       "<style scoped>\n",
       "    .dataframe tbody tr th:only-of-type {\n",
       "        vertical-align: middle;\n",
       "    }\n",
       "\n",
       "    .dataframe tbody tr th {\n",
       "        vertical-align: top;\n",
       "    }\n",
       "\n",
       "    .dataframe thead th {\n",
       "        text-align: right;\n",
       "    }\n",
       "</style>\n",
       "<table border=\"1\" class=\"dataframe\">\n",
       "  <thead>\n",
       "    <tr style=\"text-align: right;\">\n",
       "      <th></th>\n",
       "      <th>id</th>\n",
       "      <th>title</th>\n",
       "      <th>selftext</th>\n",
       "    </tr>\n",
       "  </thead>\n",
       "  <tbody>\n",
       "    <tr>\n",
       "      <th>0</th>\n",
       "      <td>27lq60</td>\n",
       "      <td>How is your day today?</td>\n",
       "      <td></td>\n",
       "    </tr>\n",
       "    <tr>\n",
       "      <th>1</th>\n",
       "      <td>27qt66</td>\n",
       "      <td>Look &amp;amp; Feel of the subreddit; Suggestions ...</td>\n",
       "      <td>I'm changing some of the look and feel and try...</td>\n",
       "    </tr>\n",
       "    <tr>\n",
       "      <th>2</th>\n",
       "      <td>27r2gs</td>\n",
       "      <td>Man I can't wait for all these new games, E3 w...</td>\n",
       "      <td>That No Mans Sky looks great.</td>\n",
       "    </tr>\n",
       "    <tr>\n",
       "      <th>3</th>\n",
       "      <td>27sdtf</td>\n",
       "      <td>What are you doing right now? or What do you w...</td>\n",
       "      <td></td>\n",
       "    </tr>\n",
       "    <tr>\n",
       "      <th>4</th>\n",
       "      <td>27uyyb</td>\n",
       "      <td>What do you do if someone asks you \"what's up\"...</td>\n",
       "      <td></td>\n",
       "    </tr>\n",
       "  </tbody>\n",
       "</table>\n",
       "</div>"
      ],
      "text/plain": [
       "       id                                              title  \\\n",
       "0  27lq60                             How is your day today?   \n",
       "1  27qt66  Look &amp; Feel of the subreddit; Suggestions ...   \n",
       "2  27r2gs  Man I can't wait for all these new games, E3 w...   \n",
       "3  27sdtf  What are you doing right now? or What do you w...   \n",
       "4  27uyyb  What do you do if someone asks you \"what's up\"...   \n",
       "\n",
       "                                            selftext  \n",
       "0                                                     \n",
       "1  I'm changing some of the look and feel and try...  \n",
       "2                      That No Mans Sky looks great.  \n",
       "3                                                     \n",
       "4                                                     "
      ]
     },
     "execution_count": 5,
     "metadata": {},
     "output_type": "execute_result"
    }
   ],
   "source": [
    "# Remove the columns\n",
    "titles_unchanged = dtf[['id', 'title', 'selftext']]\n",
    "titles_unchanged = titles_unchanged.fillna('')\n",
    "titles_unchanged.head()"
   ]
  },
  {
   "cell_type": "code",
   "execution_count": 6,
   "metadata": {},
   "outputs": [],
   "source": [
    "titles_unchanged['clear_text'] = titles_unchanged[[\"title\", \"selftext\"]].apply(\" \".join, axis=1)"
   ]
  },
  {
   "cell_type": "code",
   "execution_count": 7,
   "metadata": {},
   "outputs": [
    {
     "name": "stderr",
     "output_type": "stream",
     "text": [
      "<>:2: DeprecationWarning: invalid escape sequence \\.\n",
      "<>:2: DeprecationWarning: invalid escape sequence \\.\n",
      "C:\\Users\\sorok\\AppData\\Local\\Temp\\ipykernel_21392\\1812006026.py:2: DeprecationWarning: invalid escape sequence \\.\n",
      "  titles_unchanged['title_changed'] = titles_unchanged['clear_text'].map(lambda x: re.sub('[,\\.!?]', '', x))\n"
     ]
    },
    {
     "data": {
      "text/html": [
       "<div>\n",
       "<style scoped>\n",
       "    .dataframe tbody tr th:only-of-type {\n",
       "        vertical-align: middle;\n",
       "    }\n",
       "\n",
       "    .dataframe tbody tr th {\n",
       "        vertical-align: top;\n",
       "    }\n",
       "\n",
       "    .dataframe thead th {\n",
       "        text-align: right;\n",
       "    }\n",
       "</style>\n",
       "<table border=\"1\" class=\"dataframe\">\n",
       "  <thead>\n",
       "    <tr style=\"text-align: right;\">\n",
       "      <th></th>\n",
       "      <th>id</th>\n",
       "      <th>title</th>\n",
       "      <th>selftext</th>\n",
       "      <th>clear_text</th>\n",
       "      <th>title_changed</th>\n",
       "    </tr>\n",
       "  </thead>\n",
       "  <tbody>\n",
       "    <tr>\n",
       "      <th>0</th>\n",
       "      <td>27lq60</td>\n",
       "      <td>How is your day today?</td>\n",
       "      <td></td>\n",
       "      <td>How is your day today?</td>\n",
       "      <td>how is your day today</td>\n",
       "    </tr>\n",
       "    <tr>\n",
       "      <th>1</th>\n",
       "      <td>27qt66</td>\n",
       "      <td>Look &amp;amp; Feel of the subreddit; Suggestions ...</td>\n",
       "      <td>I'm changing some of the look and feel and try...</td>\n",
       "      <td>Look &amp;amp; Feel of the subreddit; Suggestions ...</td>\n",
       "      <td>look &amp;amp; feel of the subreddit; suggestions ...</td>\n",
       "    </tr>\n",
       "    <tr>\n",
       "      <th>2</th>\n",
       "      <td>27r2gs</td>\n",
       "      <td>Man I can't wait for all these new games, E3 w...</td>\n",
       "      <td>That No Mans Sky looks great.</td>\n",
       "      <td>Man I can't wait for all these new games, E3 w...</td>\n",
       "      <td>man i can't wait for all these new games e3 wa...</td>\n",
       "    </tr>\n",
       "    <tr>\n",
       "      <th>3</th>\n",
       "      <td>27sdtf</td>\n",
       "      <td>What are you doing right now? or What do you w...</td>\n",
       "      <td></td>\n",
       "      <td>What are you doing right now? or What do you w...</td>\n",
       "      <td>what are you doing right now or what do you wi...</td>\n",
       "    </tr>\n",
       "    <tr>\n",
       "      <th>4</th>\n",
       "      <td>27uyyb</td>\n",
       "      <td>What do you do if someone asks you \"what's up\"...</td>\n",
       "      <td></td>\n",
       "      <td>What do you do if someone asks you \"what's up\"...</td>\n",
       "      <td>what do you do if someone asks you \"what's up\"...</td>\n",
       "    </tr>\n",
       "  </tbody>\n",
       "</table>\n",
       "</div>"
      ],
      "text/plain": [
       "       id                                              title  \\\n",
       "0  27lq60                             How is your day today?   \n",
       "1  27qt66  Look &amp; Feel of the subreddit; Suggestions ...   \n",
       "2  27r2gs  Man I can't wait for all these new games, E3 w...   \n",
       "3  27sdtf  What are you doing right now? or What do you w...   \n",
       "4  27uyyb  What do you do if someone asks you \"what's up\"...   \n",
       "\n",
       "                                            selftext  \\\n",
       "0                                                      \n",
       "1  I'm changing some of the look and feel and try...   \n",
       "2                      That No Mans Sky looks great.   \n",
       "3                                                      \n",
       "4                                                      \n",
       "\n",
       "                                          clear_text  \\\n",
       "0                            How is your day today?    \n",
       "1  Look &amp; Feel of the subreddit; Suggestions ...   \n",
       "2  Man I can't wait for all these new games, E3 w...   \n",
       "3  What are you doing right now? or What do you w...   \n",
       "4  What do you do if someone asks you \"what's up\"...   \n",
       "\n",
       "                                       title_changed  \n",
       "0                             how is your day today   \n",
       "1  look &amp; feel of the subreddit; suggestions ...  \n",
       "2  man i can't wait for all these new games e3 wa...  \n",
       "3  what are you doing right now or what do you wi...  \n",
       "4  what do you do if someone asks you \"what's up\"...  "
      ]
     },
     "execution_count": 7,
     "metadata": {},
     "output_type": "execute_result"
    }
   ],
   "source": [
    "# Remove punctuation and lowercase\n",
    "titles_unchanged['title_changed'] = titles_unchanged['clear_text'].map(lambda x: re.sub('[,\\.!?]', '', x))\n",
    "titles_unchanged['title_changed'] = titles_unchanged['title_changed'].map(lambda x: x.lower())\n",
    "\n",
    "titles_unchanged.head()"
   ]
  },
  {
   "cell_type": "code",
   "execution_count": 8,
   "metadata": {},
   "outputs": [
    {
     "name": "stdout",
     "output_type": "stream",
     "text": [
      "['how', 'is', 'your', 'day', 'today']\n"
     ]
    }
   ],
   "source": [
    "# gensim.utils.simple_preprocess realization\n",
    "def sent_to_words(sentences):\n",
    "    for sentence in sentences:\n",
    "        yield(gensim.utils.simple_preprocess(str(sentence), deacc=True))\n",
    "\n",
    "data = titles_unchanged.title_changed.values.tolist()\n",
    "data_words = list(sent_to_words(data))\n",
    "\n",
    "print(data_words[:1][0])"
   ]
  },
  {
   "cell_type": "code",
   "execution_count": 9,
   "metadata": {},
   "outputs": [],
   "source": [
    "# Build the bigram and trigram models\n",
    "bigram = gensim.models.Phrases(data_words, min_count=5, threshold=100)\n",
    "trigram = gensim.models.Phrases(bigram[data_words], threshold=100)  \n",
    "bigram_mod = gensim.models.phrases.Phraser(bigram)\n",
    "trigram_mod = gensim.models.phrases.Phraser(trigram)"
   ]
  },
  {
   "cell_type": "code",
   "execution_count": 10,
   "metadata": {},
   "outputs": [
    {
     "name": "stderr",
     "output_type": "stream",
     "text": [
      "[nltk_data] Downloading package stopwords to\n",
      "[nltk_data]     C:\\Users\\sorok\\AppData\\Roaming\\nltk_data...\n",
      "[nltk_data]   Package stopwords is already up-to-date!\n"
     ]
    }
   ],
   "source": [
    "# Stop words\n",
    "nltk.download('stopwords')\n",
    "stop_words = stopwords.words('english')\n",
    "stop_words.extend(['from', 'subject', 're', 'edu', 'use'])"
   ]
  },
  {
   "cell_type": "code",
   "execution_count": 11,
   "metadata": {},
   "outputs": [],
   "source": [
    "# Initialize spacy model, keeping only tagger component for efficiency\n",
    "nlp = spacy.load(\"en_core_web_sm\", disable=['parser', 'ner'])\n",
    "\n",
    "# Define functions for stopwords, bigrams, trigrams and lemmatization\n",
    "def remove_stopwords(texts):\n",
    "    return [[word for word in simple_preprocess(str(doc)) if word not in stop_words] for doc in texts]\n",
    "\n",
    "def make_bigrams(texts):\n",
    "    return [bigram_mod[doc] for doc in texts]\n",
    "\n",
    "def make_trigrams(texts):\n",
    "    return [trigram_mod[bigram_mod[doc]] for doc in texts]\n",
    "\n",
    "def lemmatization(texts, allowed_postags=['NOUN', 'ADJ', 'VERB', 'ADV']):\n",
    "    texts_out = []\n",
    "    for sent in texts:\n",
    "        doc = nlp(\" \".join(sent)) \n",
    "        texts_out.append([token.lemma_ for token in doc if token.pos_ in allowed_postags])\n",
    "    return texts_out"
   ]
  },
  {
   "cell_type": "code",
   "execution_count": 13,
   "metadata": {},
   "outputs": [
    {
     "name": "stdout",
     "output_type": "stream",
     "text": [
      "['day', 'today']\n"
     ]
    }
   ],
   "source": [
    "# Remove Stop Words\n",
    "data_words_nostops = remove_stopwords(data_words)\n",
    "\n",
    "# Form Bigrams\n",
    "data_words_bigrams = make_bigrams(data_words_nostops)\n",
    "\n",
    "# Do lemmatization keeping only noun, adj, vb, adv\n",
    "data_lemmatized = lemmatization(data_words_bigrams, allowed_postags=['NOUN', 'ADJ', 'VERB', 'ADV'])\n",
    "\n",
    "print(data_lemmatized[:1][0])"
   ]
  },
  {
   "cell_type": "code",
   "execution_count": 14,
   "metadata": {},
   "outputs": [
    {
     "name": "stdout",
     "output_type": "stream",
     "text": [
      "[(0, 1), (1, 1)]\n"
     ]
    }
   ],
   "source": [
    "# Create gensim dictionary and Corpus\n",
    "id2word = corpora.Dictionary(data_lemmatized)\n",
    "corpus = [id2word.doc2bow(text) for text in data_lemmatized]\n",
    "\n",
    "print(corpus[:1][0])"
   ]
  },
  {
   "cell_type": "code",
   "execution_count": null,
   "metadata": {},
   "outputs": [],
   "source": [
    "# Build LDA model\n",
    "lda_model = gensim.models.LdaMulticore(corpus=corpus,\n",
    "                                       id2word=id2word,\n",
    "                                       num_topics=3, \n",
    "                                       random_state=123,\n",
    "                                       chunksize=10000,\n",
    "                                       passes=10,\n",
    "                                       per_word_topics=True,\n",
    "                                       workers = 4)"
   ]
  },
  {
   "cell_type": "code",
   "execution_count": null,
   "metadata": {},
   "outputs": [],
   "source": [
    "lda_model.print_topics()"
   ]
  },
  {
   "cell_type": "code",
   "execution_count": null,
   "metadata": {},
   "outputs": [],
   "source": [
    "# Compute Baseline Coherence Score\n",
    "coherence_model_lda = CoherenceModel(model=lda_model, texts=data_lemmatized, dictionary=id2word, coherence='c_v')\n",
    "coherence_lda = coherence_model_lda.get_coherence()\n",
    "print('Baseline coherence Score: ', coherence_lda)"
   ]
  },
  {
   "cell_type": "code",
   "execution_count": null,
   "metadata": {},
   "outputs": [],
   "source": [
    "# Function for finding the max coherence\n",
    "def compute_coherence_values(corpus, dictionary, k, a, b):\n",
    "    lda_model = gensim.models.LdaMulticore(corpus=corpus,\n",
    "                                           id2word=dictionary,\n",
    "                                           num_topics=k, \n",
    "                                           random_state=123,\n",
    "                                           chunksize=10000,\n",
    "                                           passes=10,\n",
    "                                           alpha=a,\n",
    "                                           eta=b,\n",
    "                                           workers=4)\n",
    "    coherence_model_lda = CoherenceModel(model=lda_model, texts=data_lemmatized, dictionary=id2word, coherence='c_v')\n",
    "    return coherence_model_lda.get_coherence()\n",
    "\n",
    "# Topics range\n",
    "min_topics = 3\n",
    "max_topics = 11\n",
    "topics_range = range(min_topics, max_topics, 1)\n",
    "\n",
    "# Alpha parameter\n",
    "alpha = list(np.arange(0.01, 1, 0.3))\n",
    "\n",
    "# Beta parameter\n",
    "beta = list(np.arange(0.01, 1, 0.3))\n",
    "\n",
    "# Validation sets\n",
    "num_of_docs = len(corpus)\n",
    "\n",
    "# Results dict\n",
    "model_results = {'Topics': [],\n",
    "                 'Alpha': [],\n",
    "                 'Beta': [],\n",
    "                 'Coherence': []\n",
    "                }\n",
    "\n",
    "# Adding a tqdm bar\n",
    "pbar = tqdm.tqdm(total=(len(beta)*len(alpha)*len(topics_range)))\n",
    "\n",
    "\n",
    "# Iterate through number of topics\n",
    "for k in topics_range:\n",
    "    # Iterate through alpha values\n",
    "    for a in alpha:\n",
    "        # Iterare through beta values\n",
    "        for b in beta:\n",
    "            # Compute the coherence score for the given parameters\n",
    "            cv = compute_coherence_values(corpus=corpus, dictionary=id2word, k=k, a=a, b=b)\n",
    "            # Save the model results\n",
    "            model_results['Topics'].append(k)\n",
    "            model_results['Alpha'].append(a)\n",
    "            model_results['Beta'].append(b)\n",
    "            model_results['Coherence'].append(cv)\n",
    "            pbar.update(1)\n",
    "\n",
    "pd.DataFrame(model_results).to_csv('lda_tuning_results.csv', index=False)\n",
    "pbar.close()"
   ]
  },
  {
   "cell_type": "code",
   "execution_count": null,
   "metadata": {},
   "outputs": [],
   "source": [
    "# Checking results\n",
    "res_df = pd.read_csv('lda_tuning_results.csv')\n",
    "res_df = res_df[res_df['Alpha'] != 'asymmetric']\n",
    "res_df[res_df['Topics'] == 4].sort_values(by=['Coherence'], ascending=False).head(10)"
   ]
  },
  {
   "cell_type": "code",
   "execution_count": 20,
   "metadata": {},
   "outputs": [],
   "source": [
    "# Selecting the chosen parameters for the model\n",
    "num_topics = 3\n",
    "\n",
    "lda_model = gensim.models.LdaMulticore(corpus=corpus,\n",
    "                                           id2word=id2word,\n",
    "                                           num_topics=num_topics, \n",
    "                                           random_state=123,\n",
    "                                           chunksize=10000,\n",
    "                                           passes=10,\n",
    "                                           alpha=0.61,\n",
    "                                           eta=0.61,\n",
    "                                           workers=4)"
   ]
  },
  {
   "cell_type": "code",
   "execution_count": null,
   "metadata": {},
   "outputs": [],
   "source": [
    "# Compute the final coherence score\n",
    "coherence_model_lda = CoherenceModel(model=lda_model, texts=data_lemmatized, dictionary=id2word, coherence='c_v')\n",
    "print('Final coherence Score: ', coherence_model_lda.get_coherence())"
   ]
  },
  {
   "cell_type": "code",
   "execution_count": 16,
   "metadata": {},
   "outputs": [
    {
     "name": "stdout",
     "output_type": "stream",
     "text": [
      "[(0, '0.027*\"get\" + 0.016*\"work\" + 0.014*\"go\" + 0.012*\"time\" + 0.011*\"job\" + 0.010*\"year\" + 0.009*\"want\" + 0.008*\"make\" + 0.008*\"feel\" + 0.007*\"know\"'), (1, '0.019*\"feel\" + 0.017*\"friend\" + 0.015*\"people\" + 0.013*\"get\" + 0.013*\"want\" + 0.013*\"know\" + 0.013*\"really\" + 0.012*\"think\" + 0.012*\"make\" + 0.011*\"go\"'), (2, '0.028*\"go\" + 0.023*\"day\" + 0.016*\"get\" + 0.011*\"today\" + 0.009*\"want\" + 0.008*\"feel\" + 0.008*\"night\" + 0.008*\"sleep\" + 0.006*\"good\" + 0.006*\"think\"'), (3, '0.011*\"eat\" + 0.009*\"name\" + 0.009*\"thing\" + 0.009*\"get\" + 0.008*\"think\" + 0.007*\"book\" + 0.007*\"people\" + 0.007*\"make\" + 0.007*\"time\" + 0.007*\"know\"'), (4, '0.016*\"remove\" + 0.015*\"watch\" + 0.013*\"movie\" + 0.010*\"show\" + 0.008*\"new\" + 0.008*\"make\" + 0.007*\"amp\" + 0.007*\"see\" + 0.006*\"post\" + 0.006*\"word\"'), (5, '0.019*\"play\" + 0.018*\"game\" + 0.016*\"music\" + 0.014*\"song\" + 0.013*\"get\" + 0.012*\"listen\" + 0.009*\"make\" + 0.008*\"really\" + 0.008*\"feel\" + 0.008*\"love\"')]\n"
     ]
    }
   ],
   "source": [
    "# Print topics\n",
    "print(lda_model.print_topics())"
   ]
  },
  {
   "cell_type": "code",
   "execution_count": 21,
   "metadata": {},
   "outputs": [
    {
     "name": "stderr",
     "output_type": "stream",
     "text": [
      "c:\\Users\\sorok\\AppData\\Local\\Programs\\Python\\Python39\\lib\\site-packages\\pyLDAvis\\_prepare.py:246: FutureWarning: In a future version of pandas all arguments of DataFrame.drop except for the argument 'labels' will be keyword-only.\n",
      "  default_term_info = default_term_info.sort_values(\n"
     ]
    },
    {
     "data": {
      "text/html": [
       "\n",
       "<link rel=\"stylesheet\" type=\"text/css\" href=\"https://cdn.jsdelivr.net/gh/bmabey/pyLDAvis@3.3.1/pyLDAvis/js/ldavis.v1.0.0.css\">\n",
       "\n",
       "\n",
       "<div id=\"ldavis_el2139216935969759524621974445\"></div>\n",
       "<script type=\"text/javascript\">\n",
       "\n",
       "var ldavis_el2139216935969759524621974445_data = {\"mdsDat\": {\"x\": [-0.043569212689802836, -0.036092787343075104, 0.07966200003287795], \"y\": [0.051743068056763826, -0.055085073984178334, 0.0033420059274145023], \"topics\": [1, 2, 3], \"cluster\": [1, 1, 1], \"Freq\": [41.17476485150211, 35.49623896582626, 23.328996182671634]}, \"tinfo\": {\"Term\": [\"job\", \"remove\", \"day\", \"friend\", \"work\", \"eat\", \"go\", \"drink\", \"talk\", \"song\", \"food\", \"sleep\", \"get\", \"pay\", \"money\", \"game\", \"music\", \"cat\", \"car\", \"life\", \"girl\", \"today\", \"night\", \"birthday\", \"chat\", \"let\", \"amp\", \"morning\", \"listen\", \"coffee\", \"lyric\", \"friendship\", \"song\", \"gay\", \"poem\", \"playlist\", \"instrumental\", \"attractive\", \"bisexual\", \"acoustic\", \"platonic\", \"initiate\", \"handsome\", \"extrovert\", \"tinder\", \"poetry\", \"upbeat\", \"sexuality\", \"melody\", \"reconnect\", \"kiss\", \"dance\", \"reciprocate\", \"romantic\", \"confess\", \"mutual\", \"lofi\", \"lesbian\", \"penpal\", \"barber\", \"crush\", \"accent\", \"insecure\", \"singer\", \"singe\", \"introverted\", \"album\", \"introvert\", \"girl\", \"friend\", \"listen\", \"music\", \"awkward\", \"lonely\", \"meet\", \"compliment\", \"genre\", \"shy\", \"hair\", \"relationship\", \"emotion\", \"hug\", \"date\", \"talk\", \"sad\", \"person\", \"life\", \"feeling\", \"feel\", \"people\", \"love\", \"group\", \"think\", \"conversation\", \"really\", \"happy\", \"thing\", \"say\", \"know\", \"tell\", \"weird\", \"never\", \"see\", \"want\", \"make\", \"guy\", \"hear\", \"always\", \"ever\", \"good\", \"time\", \"even\", \"get\", \"go\", \"year\", \"look\", \"try\", \"find\", \"much\", \"start\", \"day\", \"pop_pop\", \"lt_gt\", \"interview\", \"salary\", \"debt\", \"application\", \"management\", \"hire\", \"paycheck\", \"unemployment\", \"wage\", \"payment\", \"loan\", \"software\", \"unemployed\", \"minimum_wage\", \"resume\", \"credit_card\", \"manual\", \"driver_license\", \"brake\", \"bachelor\", \"subscription\", \"agency\", \"employer\", \"earn\", \"license\", \"insurance\", \"engineering\", \"internship\", \"job\", \"pay\", \"math\", \"award\", \"money\", \"apply\", \"degree\", \"career\", \"program\", \"industry\", \"semester\", \"exam\", \"car\", \"position\", \"driver\", \"education\", \"student\", \"company\", \"manager\", \"drive\", \"university\", \"graduate\", \"study\", \"boss\", \"field\", \"work\", \"cost\", \"test\", \"game\", \"college\", \"class\", \"get\", \"computer\", \"finally\", \"school\", \"year\", \"watch\", \"book\", \"time\", \"buy\", \"week\", \"learn\", \"month\", \"take\", \"reddit\", \"first\", \"go\", \"start\", \"movie\", \"play\", \"new\", \"want\", \"make\", \"well\", \"know\", \"much\", \"good\", \"really\", \"feel\", \"day\", \"thing\", \"even\", \"people\", \"see\", \"today\", \"give\", \"think\", \"life\", \"megathread\", \"amp_restrict_sr\", \"metareddit_ideasforcc\", \"redirect\", \"thread_searchq\", \"wiki_directory\", \"megathread_megathread\", \"add_context\", \"flooding_whenever\", \"influx\", \"mdo_made\", \"live_tgjdc\", \"stay_updated\", \"feedback_message\", \"megathreads_join\", \"onion\", \"automoderator\", \"searchq_title\", \"https_plugdj\", \"mus_feedback\", \"rel_vent\", \"int_relationship\", \"ora_introduce\", \"flavor\", \"rice\", \"directory_directory\", \"support_page\", \"title_aweekend\", \"int_weekend\", \"weekly_megathread\", \"breakfast\", \"cheese\", \"sandwich\", \"poll\", \"egg\", \"sauce\", \"butter\", \"pasta\", \"slice\", \"beer\", \"drink\", \"soda\", \"pizza\", \"cereal\", \"remove\", \"tea\", \"meat\", \"eat\", \"fry\", \"chicken\", \"snow\", \"bread\", \"water\", \"bottle\", \"smoke\", \"milk\", \"shower\", \"food\", \"coffee\", \"cat\", \"dinner\", \"cook\", \"thread\", \"weather\", \"cold\", \"smell\", \"cake\", \"sleep\", \"bathroom\", \"amp\", \"taste\", \"day\", \"bored\", \"chat\", \"morning\", \"birthday\", \"bed\", \"tonight\", \"go\", \"room\", \"night\", \"weekend\", \"let\", \"today\", \"subreddit\", \"post\", \"topic\", \"get\", \"wake\", \"make\", \"question\", \"good\", \"think\", \"want\", \"try\", \"take\", \"come\", \"feel\", \"know\", \"talk\", \"guy\", \"say\", \"people\", \"really\", \"time\", \"else\", \"thing\", \"work\"], \"Freq\": [7172.0, 4869.0, 18011.0, 15800.0, 14732.0, 3828.0, 33107.0, 2581.0, 13273.0, 3943.0, 2798.0, 3578.0, 40824.0, 2828.0, 2994.0, 5207.0, 4869.0, 1847.0, 3064.0, 13226.0, 4227.0, 10367.0, 5149.0, 2508.0, 2553.0, 6381.0, 2404.0, 2519.0, 3759.0, 1368.0, 277.7957612783952, 624.3982787482627, 3862.98513495258, 382.9132419377269, 161.81011224680364, 598.0137263613769, 75.2648153831756, 402.21176766174233, 63.590948785482965, 58.47554088370567, 55.86557080615297, 93.96960782688518, 103.9587179198546, 76.35244223922837, 217.80053716080263, 95.4025446568224, 68.60933100914508, 64.76848923412635, 43.655649077638515, 31.24132345635754, 546.4689372421554, 488.2061615540873, 36.174659338774575, 234.18075590979254, 70.1106685940006, 134.45852662307684, 34.89792164020767, 64.40562634763187, 28.59525193675222, 32.90474558302936, 788.8446641422215, 210.8193320436986, 181.84165241043118, 119.6016391983301, 158.3237551487074, 126.03009287818273, 708.0808879258803, 329.3643550325263, 3754.0947999982363, 13566.475917087546, 3313.1726083090707, 4168.5484017257595, 648.5121935734401, 1199.041263772811, 2865.0239065434407, 687.4643308255376, 539.1499136982013, 383.1839294907508, 1145.8596655527037, 2281.311896632804, 574.3786694192527, 623.389166611329, 1950.009688025587, 9587.579763038326, 1776.376276487137, 4031.8734892657367, 8909.482375711532, 2047.2281776722602, 17125.154381449138, 13680.547727573858, 7728.020353917669, 1342.3868841517906, 11859.61338242615, 2360.4421098348375, 11857.786917711277, 4285.386839780441, 9918.576719281727, 8781.4624918734, 11714.50417523158, 6912.540407256724, 2415.7809129245466, 5501.705579705822, 7503.814356190278, 11231.757720908141, 11054.419442554687, 5983.960071574463, 3117.0897428949615, 4586.398612268753, 4084.4343635967643, 7601.069514592747, 9160.801612149982, 5710.943992444865, 12910.019106951206, 10908.609080659144, 7081.552353310724, 5260.821429588608, 5061.782461330283, 4610.74858972345, 4708.7193298783495, 4466.767097051357, 4416.827858421524, 436.717188260251, 133.87983675359789, 1113.3938698775432, 184.43391278490267, 326.4708290414654, 278.33483817727995, 164.33903738008559, 367.0045769651635, 116.7713050808698, 69.00943958055082, 80.72813036064012, 148.2063733866191, 119.62690088906855, 94.0517091529992, 128.6457999169147, 55.774120819057984, 162.96920283423879, 108.19456127701174, 59.41248107568362, 51.32409864628479, 75.35496980411001, 124.9710603330711, 74.50985652653908, 60.984636762377825, 116.80474348669229, 288.7642523376768, 191.63515396753718, 176.7835009204138, 156.52877931217245, 222.09278696632072, 6852.470603344473, 2675.7807744104584, 408.03105230081104, 212.85521035154005, 2787.664721578087, 823.6116441578064, 656.6093886867085, 851.4936000605961, 451.71132700564476, 233.55427020251457, 623.4868404131998, 687.0431833799076, 2711.128213931046, 590.1341488459947, 295.9130233368238, 288.1160058929907, 1102.2572353773407, 1263.6620494076014, 432.24807600960895, 2003.2609232406523, 882.4054564255698, 833.6528048715977, 1516.64523826387, 581.5407506172297, 475.2143934621892, 10715.50989580273, 393.3642238555721, 924.385127138972, 3788.460635213345, 2572.60630765531, 2151.9242665808442, 20774.639717053993, 699.1862089550006, 2357.9686916485016, 3049.82431070187, 8384.538188873397, 3397.723651745194, 1753.435895295093, 10211.05901245652, 2263.5076438084957, 4089.373846791309, 2240.0708582059565, 3296.989191033822, 5190.116106026356, 2985.2989924355593, 5050.227953906212, 11970.752152033105, 5284.973077028677, 2419.8709671420706, 3186.647893171926, 3916.7625416610026, 7196.421284534947, 7030.078002746048, 4392.187074969159, 6391.523176662546, 4176.582660203691, 5238.734226620986, 5917.155405805428, 6614.285301791754, 5126.785812383473, 4904.433291531089, 4109.972630291619, 4981.266016036218, 4125.843552280889, 3790.923235825023, 3424.605383439103, 4314.057132061009, 3786.412613829222, 544.3109745194663, 178.67383425005443, 104.11982150288203, 137.33640918158474, 95.48432782418308, 90.25597236481427, 87.63186645100772, 74.33628239023645, 79.02522070353162, 85.47787623338621, 71.77579859629323, 71.7713453884923, 71.76244748762812, 71.08839105216221, 63.18459858294883, 103.08996398180727, 67.70176909324573, 58.57342536878532, 59.21680746179838, 55.945836927272126, 55.93402698612512, 55.932085625936566, 53.298609243325195, 257.9376975062372, 116.16121876394908, 47.99603081569505, 47.99042386093996, 47.9871499443062, 47.98609837420407, 45.39772881439463, 497.58219636842864, 352.37373340229203, 342.49224410152647, 312.41352457810706, 320.13554017019214, 166.74226859018077, 150.36478374482508, 119.7373915554857, 166.7958433195946, 514.310318110997, 2369.5275187234174, 209.7783923383688, 676.5568733298069, 124.68987802911411, 4358.839985108951, 510.65981165960926, 293.80568934771355, 3386.792628318326, 193.25573121575536, 288.0668583356083, 385.53914750760356, 278.8113044303719, 1097.8323067166216, 342.91467726676467, 631.6406103569102, 284.76349773898886, 608.8716568865898, 2306.9666757631544, 1165.9069532018714, 1536.1051319100513, 879.6223316372527, 656.5558226630485, 1147.3850146450836, 529.0181310173482, 763.5379158070788, 559.9989018494296, 569.305373885927, 2534.0750285320173, 462.99628560726046, 1674.7017648403476, 793.3678346958078, 8468.288344615363, 948.2045927233823, 1647.7511896417934, 1614.0159352327166, 1569.0720163918706, 1279.625566200168, 1190.6296643187873, 10227.93340491402, 1392.6985577294445, 2520.0198532385252, 1211.847028232098, 2786.271204369046, 3788.6182210961274, 1016.9654589468585, 2446.5511544988663, 1007.5927081923448, 7139.643774243831, 1161.0915625194527, 4273.547381052506, 1683.3542369059587, 3575.35469554138, 3889.977658308809, 4093.747183244636, 2603.2144259333095, 2558.785205955084, 2433.873868113935, 3719.136326886834, 3350.4013206997083, 2751.2460693799558, 2501.0394812056343, 2837.251186684549, 3080.319563740328, 2958.1212256742506, 2667.080135411883, 2126.580800239454, 2355.3374699852475, 2267.2796878412946], \"Total\": [7172.0, 4869.0, 18011.0, 15800.0, 14732.0, 3828.0, 33107.0, 2581.0, 13273.0, 3943.0, 2798.0, 3578.0, 40824.0, 2828.0, 2994.0, 5207.0, 4869.0, 1847.0, 3064.0, 13226.0, 4227.0, 10367.0, 5149.0, 2508.0, 2553.0, 6381.0, 2404.0, 2519.0, 3759.0, 1368.0, 282.78697165250287, 636.4878261251638, 3943.1356663926113, 391.89310835761205, 165.68969649977427, 612.6168776556837, 77.26853771232669, 412.92050715667654, 65.63009339332469, 60.38913759593372, 57.81521883301435, 97.27718657119081, 107.66630417177282, 79.17004676868564, 225.966991267591, 99.03892775421848, 71.36313173054322, 67.49782298402364, 45.49731129645371, 32.59374234997687, 570.1792285390392, 509.5244514451896, 37.77508509649439, 244.7548987480182, 73.29509173227603, 140.58446734209403, 36.510311792922344, 67.5131646153969, 29.980559159714346, 34.514472189052036, 835.4852528372951, 221.8928270166006, 191.14937486474517, 125.73296311953817, 167.20975469465327, 132.96217410470413, 764.4159106030356, 351.7572548008893, 4227.42855453235, 15800.337761395876, 3759.3861011347885, 4869.890601984569, 718.6989952643964, 1354.7745985366823, 3364.770758173037, 765.3154339533356, 597.4408835140326, 420.48437051085244, 1320.434237801636, 2738.0298880784753, 645.4535913859908, 704.6712446450571, 2360.838246217537, 13273.104581888438, 2194.0832688687938, 5486.026007406887, 13226.494750109607, 2636.607785581143, 27458.576010127726, 21742.133307350407, 12191.792289067103, 1682.2537378519125, 20063.64817279597, 3201.3274121169957, 20733.063549190956, 6417.823229706234, 17178.347480798064, 14932.780631712454, 21456.428672593833, 11605.941239527232, 3350.929976745025, 9152.597033455231, 13553.106903567257, 22521.926188687725, 22358.04482635324, 10602.368848033826, 4633.359076797074, 7754.580384375933, 6771.238783203086, 16415.15843675511, 22038.940760018384, 11300.902821617188, 40824.30259824903, 33107.29463760627, 16503.851647117015, 10431.1744469117, 10557.038562646352, 9218.737320767581, 10301.33229138278, 11553.974317369777, 18011.90201542036, 438.1781495128285, 135.0182811491079, 1127.9282773796153, 186.97537458858878, 331.8009138178386, 283.20707166722667, 167.80515187303163, 374.8910262963408, 119.5205518928075, 70.73444254565818, 82.76071984286334, 152.01087148145984, 122.76370755444552, 96.64750378113537, 132.21485382603288, 57.367053183047275, 167.76473563798334, 111.428381816673, 61.19098236183522, 52.8867941881582, 77.64982970542782, 129.1906203457337, 77.0430247029089, 63.09254887072513, 120.84841198829982, 298.78285951575, 198.3954564750801, 183.05954512435468, 162.08847072294208, 230.0034893509319, 7172.748850753499, 2828.69902917435, 423.5614128919818, 221.47897164479758, 2994.8739508876606, 872.134730632244, 696.6523223260394, 910.8720920602811, 477.1952937169984, 244.21950262629534, 668.5554231427793, 743.3668621325193, 3064.4329652095566, 642.4178826929491, 314.1460681952728, 305.8576373634369, 1243.2490949910973, 1442.6176604798616, 467.4873957388465, 2351.1916738826635, 996.1039928517109, 938.3769402961727, 1778.3713448436833, 641.9943585636817, 518.40874991584, 14732.284536272327, 425.9025691038176, 1088.7439826228401, 5207.120204274732, 3460.5651995005237, 2872.7653832112433, 40824.30259824903, 815.5304597724623, 3486.398396153, 4747.471030640263, 16503.851647117015, 5534.216719030221, 2473.2607031349708, 22038.940760018384, 3431.9887877144656, 7201.089374924181, 3392.62638637744, 5633.670991726669, 10383.84717040229, 5030.653475250091, 10077.096854345027, 33107.29463760627, 11553.974317369777, 4002.703777968245, 5936.2505896728035, 8397.053159577148, 22521.926188687725, 22358.04482635324, 10474.616015820371, 21456.428672593833, 10301.33229138278, 16415.15843675511, 20733.063549190956, 27458.576010127726, 18011.90201542036, 17178.347480798064, 11300.902821617188, 21742.133307350407, 13553.106903567257, 10367.206311280166, 7610.461403192921, 20063.64817279597, 13226.494750109607, 546.1802739357586, 180.2296085976936, 105.46011631935067, 139.22242886690225, 96.85682623592852, 91.57980567800575, 88.92721186538449, 75.4493284415237, 80.32519362973802, 86.93951368497537, 73.04048072211332, 73.04032265247604, 73.04016250514728, 72.39926040370035, 64.43890084373976, 105.14013935500452, 69.10096500073776, 59.808228422706556, 60.46569330268767, 57.16218867156421, 57.161687384125635, 57.16161762684978, 54.51538640963109, 264.2919048190756, 119.02635406081713, 49.22137862845572, 49.221135991333085, 49.221058138167976, 49.220886328875274, 46.5757034378866, 511.04021831115097, 361.8314902441117, 351.9053723773675, 321.22826236329155, 329.93421053778593, 171.4205084468371, 154.8824520876845, 123.12192743226599, 172.1500896625537, 541.4002792844202, 2581.6618734774115, 217.77401441792853, 719.8321231948917, 128.36798482122404, 4869.020173672039, 542.0192054812707, 307.9290431309045, 3828.8431678055454, 201.1605689758394, 303.7845227702834, 411.9462572263871, 295.73688929517806, 1240.3889336306843, 368.4487653170134, 701.401689089728, 304.35354149728295, 678.8362290155105, 2798.26649384949, 1368.6151403038966, 1847.8410908493697, 1018.7812519559668, 759.7529887848434, 1401.8988417731466, 601.2514378798171, 908.3358679327007, 644.8623505319387, 658.3577351853507, 3578.202246075365, 523.689023806916, 2404.466202476569, 1008.168832335282, 18011.90201542036, 1260.2204816321769, 2553.7020288487147, 2519.5727415073598, 2508.5588905876984, 1940.662919981784, 1775.6260340385127, 33107.29463760627, 2217.981049889124, 5149.930906299499, 1872.178125742963, 6381.395895280657, 10367.206311280166, 1498.6278185639771, 6099.106965575727, 1487.0946448461993, 40824.30259824903, 1970.5683443358696, 22358.04482635324, 3942.7199845288374, 16415.15843675511, 20063.64817279597, 22521.926188687725, 10557.038562646352, 10383.84717040229, 9547.573933252657, 27458.576010127726, 21456.428672593833, 13273.104581888438, 10602.368848033826, 14932.780631712454, 21742.133307350407, 20733.063549190956, 22038.940760018384, 8471.779260337731, 17178.347480798064, 14732.284536272327], \"Category\": [\"Default\", \"Default\", \"Default\", \"Default\", \"Default\", \"Default\", \"Default\", \"Default\", \"Default\", \"Default\", \"Default\", \"Default\", \"Default\", \"Default\", \"Default\", \"Default\", \"Default\", \"Default\", \"Default\", \"Default\", \"Default\", \"Default\", \"Default\", \"Default\", \"Default\", \"Default\", \"Default\", \"Default\", \"Default\", \"Default\", \"Topic1\", \"Topic1\", \"Topic1\", \"Topic1\", \"Topic1\", \"Topic1\", \"Topic1\", \"Topic1\", \"Topic1\", \"Topic1\", \"Topic1\", \"Topic1\", \"Topic1\", \"Topic1\", \"Topic1\", \"Topic1\", \"Topic1\", \"Topic1\", \"Topic1\", \"Topic1\", \"Topic1\", \"Topic1\", \"Topic1\", \"Topic1\", \"Topic1\", \"Topic1\", \"Topic1\", \"Topic1\", \"Topic1\", \"Topic1\", \"Topic1\", \"Topic1\", \"Topic1\", \"Topic1\", \"Topic1\", \"Topic1\", \"Topic1\", \"Topic1\", \"Topic1\", \"Topic1\", \"Topic1\", \"Topic1\", \"Topic1\", \"Topic1\", \"Topic1\", \"Topic1\", \"Topic1\", \"Topic1\", \"Topic1\", \"Topic1\", \"Topic1\", \"Topic1\", \"Topic1\", \"Topic1\", \"Topic1\", \"Topic1\", \"Topic1\", \"Topic1\", \"Topic1\", \"Topic1\", \"Topic1\", \"Topic1\", \"Topic1\", \"Topic1\", \"Topic1\", \"Topic1\", \"Topic1\", \"Topic1\", \"Topic1\", \"Topic1\", \"Topic1\", \"Topic1\", \"Topic1\", \"Topic1\", \"Topic1\", \"Topic1\", \"Topic1\", \"Topic1\", \"Topic1\", \"Topic1\", \"Topic1\", \"Topic1\", \"Topic1\", \"Topic1\", \"Topic1\", \"Topic1\", \"Topic1\", \"Topic1\", \"Topic1\", \"Topic1\", \"Topic1\", \"Topic2\", \"Topic2\", \"Topic2\", \"Topic2\", \"Topic2\", \"Topic2\", \"Topic2\", \"Topic2\", \"Topic2\", \"Topic2\", \"Topic2\", \"Topic2\", \"Topic2\", \"Topic2\", \"Topic2\", \"Topic2\", \"Topic2\", \"Topic2\", \"Topic2\", \"Topic2\", \"Topic2\", \"Topic2\", \"Topic2\", \"Topic2\", \"Topic2\", \"Topic2\", \"Topic2\", \"Topic2\", \"Topic2\", \"Topic2\", \"Topic2\", \"Topic2\", \"Topic2\", \"Topic2\", \"Topic2\", \"Topic2\", \"Topic2\", \"Topic2\", \"Topic2\", \"Topic2\", \"Topic2\", \"Topic2\", \"Topic2\", \"Topic2\", \"Topic2\", \"Topic2\", \"Topic2\", \"Topic2\", \"Topic2\", \"Topic2\", \"Topic2\", \"Topic2\", \"Topic2\", \"Topic2\", \"Topic2\", \"Topic2\", \"Topic2\", \"Topic2\", \"Topic2\", \"Topic2\", \"Topic2\", \"Topic2\", \"Topic2\", \"Topic2\", \"Topic2\", \"Topic2\", \"Topic2\", \"Topic2\", \"Topic2\", \"Topic2\", \"Topic2\", \"Topic2\", \"Topic2\", \"Topic2\", \"Topic2\", \"Topic2\", \"Topic2\", \"Topic2\", \"Topic2\", \"Topic2\", \"Topic2\", \"Topic2\", \"Topic2\", \"Topic2\", \"Topic2\", \"Topic2\", \"Topic2\", \"Topic2\", \"Topic2\", \"Topic2\", \"Topic2\", \"Topic2\", \"Topic2\", \"Topic2\", \"Topic2\", \"Topic2\", \"Topic2\", \"Topic2\", \"Topic3\", \"Topic3\", \"Topic3\", \"Topic3\", \"Topic3\", \"Topic3\", \"Topic3\", \"Topic3\", \"Topic3\", \"Topic3\", \"Topic3\", \"Topic3\", \"Topic3\", \"Topic3\", \"Topic3\", \"Topic3\", \"Topic3\", \"Topic3\", \"Topic3\", \"Topic3\", \"Topic3\", \"Topic3\", \"Topic3\", \"Topic3\", \"Topic3\", \"Topic3\", \"Topic3\", \"Topic3\", \"Topic3\", \"Topic3\", \"Topic3\", \"Topic3\", \"Topic3\", \"Topic3\", \"Topic3\", \"Topic3\", \"Topic3\", \"Topic3\", \"Topic3\", \"Topic3\", \"Topic3\", \"Topic3\", \"Topic3\", \"Topic3\", \"Topic3\", \"Topic3\", \"Topic3\", \"Topic3\", \"Topic3\", \"Topic3\", \"Topic3\", \"Topic3\", \"Topic3\", \"Topic3\", \"Topic3\", \"Topic3\", \"Topic3\", \"Topic3\", \"Topic3\", \"Topic3\", \"Topic3\", \"Topic3\", \"Topic3\", \"Topic3\", \"Topic3\", \"Topic3\", \"Topic3\", \"Topic3\", \"Topic3\", \"Topic3\", \"Topic3\", \"Topic3\", \"Topic3\", \"Topic3\", \"Topic3\", \"Topic3\", \"Topic3\", \"Topic3\", \"Topic3\", \"Topic3\", \"Topic3\", \"Topic3\", \"Topic3\", \"Topic3\", \"Topic3\", \"Topic3\", \"Topic3\", \"Topic3\", \"Topic3\", \"Topic3\", \"Topic3\", \"Topic3\", \"Topic3\", \"Topic3\", \"Topic3\", \"Topic3\", \"Topic3\", \"Topic3\", \"Topic3\", \"Topic3\", \"Topic3\", \"Topic3\", \"Topic3\", \"Topic3\", \"Topic3\", \"Topic3\", \"Topic3\", \"Topic3\"], \"logprob\": [30.0, 29.0, 28.0, 27.0, 26.0, 25.0, 24.0, 23.0, 22.0, 21.0, 20.0, 19.0, 18.0, 17.0, 16.0, 15.0, 14.0, 13.0, 12.0, 11.0, 10.0, 9.0, 8.0, 7.0, 6.0, 5.0, 4.0, 3.0, 2.0, 1.0, -8.2208, -7.4109, -5.5885, -7.8999, -8.7613, -7.4541, -9.5267, -7.8507, -9.6952, -9.7791, -9.8248, -9.3047, -9.2037, -9.5124, -8.4641, -9.2896, -9.6193, -9.6769, -10.0714, -10.406, -7.5442, -7.657, -10.2594, -8.3916, -9.5976, -8.9465, -10.2953, -9.6825, -10.4945, -10.3541, -7.1771, -8.4967, -8.6446, -9.0635, -8.7831, -9.0112, -7.2852, -8.0506, -5.6171, -4.3324, -5.7421, -5.5124, -7.373, -6.7584, -5.8874, -7.3147, -7.5577, -7.8992, -6.8038, -6.1152, -7.4944, -7.4125, -6.2721, -4.6795, -6.3654, -5.5457, -4.7528, -6.2235, -4.0994, -4.324, -4.8951, -6.6455, -4.4668, -6.0811, -4.467, -5.4847, -4.6456, -4.7673, -4.4791, -5.0066, -6.0579, -5.2349, -4.9245, -4.5212, -4.5371, -5.1509, -5.8031, -5.4169, -5.5328, -4.9117, -4.725, -5.1976, -4.382, -4.5504, -4.9825, -5.2797, -5.3182, -5.4116, -5.3905, -5.4433, -5.4545, -7.62, -8.8024, -6.6841, -8.482, -7.911, -8.0705, -8.5974, -7.7939, -8.9391, -9.4651, -9.3082, -8.7007, -8.9149, -9.1555, -8.8423, -9.678, -8.6058, -9.0154, -9.6148, -9.7612, -9.3771, -8.8712, -9.3884, -9.5887, -8.9388, -8.0337, -8.4437, -8.5244, -8.6461, -8.2962, -4.867, -5.8073, -7.688, -8.3387, -5.7664, -6.9856, -7.2122, -6.9523, -7.5863, -8.2459, -7.264, -7.1669, -5.7942, -7.319, -8.0093, -8.036, -6.6942, -6.5575, -7.6303, -6.0968, -6.9167, -6.9735, -6.3751, -7.3336, -7.5356, -4.4199, -7.7246, -6.8702, -5.4596, -5.8466, -6.0252, -3.7578, -7.1494, -5.9338, -5.6765, -4.6652, -5.5685, -6.23, -4.4681, -5.9746, -5.3832, -5.9851, -5.5986, -5.1448, -5.6979, -5.1721, -4.3091, -5.1267, -5.9078, -5.6326, -5.4263, -4.818, -4.8414, -5.3117, -4.9366, -5.3621, -5.1355, -5.0137, -4.9023, -5.1571, -5.2014, -5.3781, -5.1859, -5.3743, -5.459, -5.5606, -5.3297, -5.4601, -6.9801, -8.094, -8.634, -8.3572, -8.7206, -8.7769, -8.8064, -8.971, -8.9098, -8.8313, -9.006, -9.0061, -9.0062, -9.0157, -9.1335, -8.644, -9.0645, -9.2093, -9.1984, -9.2552, -9.2554, -9.2554, -9.3037, -7.7269, -8.5246, -9.4085, -9.4086, -9.4087, -9.4087, -9.4641, -7.0698, -7.4149, -7.4433, -7.5353, -7.5108, -8.1631, -8.2665, -8.4943, -8.1628, -7.0368, -5.5091, -7.9335, -6.7626, -8.4538, -4.8996, -7.0439, -7.5967, -5.1519, -8.0156, -7.6164, -7.3249, -7.6491, -6.2785, -7.4421, -6.8313, -7.6279, -6.868, -5.5359, -6.2183, -5.9426, -6.5001, -6.7926, -6.2343, -7.0086, -6.6416, -6.9517, -6.9352, -5.442, -7.1419, -5.8562, -6.6033, -4.2355, -6.425, -5.8724, -5.8931, -5.9213, -6.1253, -6.1973, -4.0467, -6.0406, -5.4476, -6.1797, -5.3471, -5.0398, -6.355, -5.4772, -6.3643, -4.4062, -6.2225, -4.9194, -5.851, -5.0978, -5.0134, -4.9624, -5.4151, -5.4323, -5.4823, -5.0583, -5.1628, -5.3598, -5.4551, -5.329, -5.2468, -5.2873, -5.3908, -5.6173, -5.5151, -5.5533], \"loglift\": [30.0, 29.0, 28.0, 27.0, 26.0, 25.0, 24.0, 23.0, 22.0, 21.0, 20.0, 19.0, 18.0, 17.0, 16.0, 15.0, 14.0, 13.0, 12.0, 11.0, 10.0, 9.0, 8.0, 7.0, 6.0, 5.0, 4.0, 3.0, 2.0, 1.0, 0.8695, 0.8682, 0.8668, 0.8642, 0.8637, 0.8632, 0.8611, 0.8611, 0.8558, 0.8551, 0.853, 0.8528, 0.8523, 0.8511, 0.8505, 0.8499, 0.848, 0.8461, 0.846, 0.845, 0.8449, 0.8446, 0.8441, 0.8432, 0.8429, 0.8428, 0.8422, 0.8402, 0.84, 0.8396, 0.8299, 0.8362, 0.8374, 0.8374, 0.8327, 0.8338, 0.8108, 0.8216, 0.7686, 0.7349, 0.761, 0.7318, 0.7846, 0.7652, 0.7266, 0.7801, 0.7847, 0.7945, 0.7455, 0.7049, 0.7707, 0.7648, 0.6962, 0.5621, 0.6762, 0.5794, 0.4922, 0.6343, 0.4152, 0.4241, 0.4314, 0.6617, 0.3616, 0.5826, 0.3286, 0.4835, 0.3381, 0.3564, 0.2821, 0.3692, 0.5601, 0.3784, 0.2961, 0.1916, 0.183, 0.3153, 0.491, 0.3622, 0.3818, 0.1174, 0.0095, 0.2048, -0.2639, -0.2229, 0.0412, 0.2028, 0.1523, 0.1945, 0.1045, -0.063, -0.5183, 1.0324, 1.0273, 1.0228, 1.0221, 1.0195, 1.0184, 1.0149, 1.0145, 1.0125, 1.0111, 1.0109, 1.0104, 1.0099, 1.0085, 1.0084, 1.0076, 1.0067, 1.0063, 1.0062, 1.0058, 1.0057, 1.0025, 1.0023, 1.0018, 1.0017, 1.0016, 1.0011, 1.0009, 1.0008, 1.0007, 0.9901, 0.9802, 0.9984, 0.996, 0.964, 0.9785, 0.9765, 0.9683, 0.9809, 0.9911, 0.966, 0.957, 0.9132, 0.9509, 0.976, 0.976, 0.9154, 0.9033, 0.9574, 0.8756, 0.9145, 0.9174, 0.8765, 0.9368, 0.9487, 0.7174, 0.9563, 0.8721, 0.7177, 0.7392, 0.7468, 0.3602, 0.8818, 0.6447, 0.5932, 0.3585, 0.5479, 0.6918, 0.2664, 0.6195, 0.4699, 0.6206, 0.5, 0.3422, 0.5139, 0.3449, 0.0185, 0.2536, 0.5325, 0.4136, 0.2731, -0.1052, -0.1212, 0.1666, -0.1753, 0.133, -0.1064, -0.2181, -0.3877, -0.2208, -0.2178, 0.0243, -0.4378, -0.1536, 0.0297, 0.2372, -0.5013, -0.2151, 1.452, 1.4468, 1.4427, 1.4418, 1.4412, 1.4409, 1.4408, 1.4406, 1.4392, 1.4385, 1.438, 1.4379, 1.4378, 1.4372, 1.4358, 1.4358, 1.435, 1.4346, 1.4346, 1.434, 1.4338, 1.4337, 1.4329, 1.4311, 1.4311, 1.4303, 1.4302, 1.4301, 1.4301, 1.4299, 1.4288, 1.429, 1.4284, 1.4276, 1.4253, 1.4278, 1.4259, 1.4276, 1.4239, 1.4041, 1.3697, 1.4181, 1.3935, 1.4264, 1.3448, 1.3959, 1.4085, 1.3328, 1.4154, 1.4023, 1.3892, 1.3965, 1.3334, 1.3837, 1.3507, 1.3889, 1.3467, 1.2624, 1.2952, 1.2707, 1.3086, 1.3095, 1.2551, 1.3275, 1.2818, 1.3144, 1.3101, 1.1104, 1.3323, 1.0938, 1.2159, 0.7008, 1.171, 1.0173, 1.0101, 0.9862, 1.039, 1.0558, 0.2808, 0.9901, 0.7408, 1.0205, 0.6268, 0.4488, 1.0677, 0.542, 1.0662, -0.2881, 0.9265, -0.1993, 0.6044, -0.0687, -0.185, -0.2496, 0.0554, 0.0548, 0.0887, -0.5437, -0.4015, -0.1182, 0.0111, -0.2053, -0.4987, -0.4917, -0.6564, 0.0732, -0.5315, -0.416]}, \"token.table\": {\"Topic\": [1, 2, 3, 1, 2, 3, 1, 2, 3, 1, 2, 3, 1, 2, 3, 1, 2, 3, 1, 2, 3, 1, 2, 3, 1, 2, 3, 1, 2, 3, 1, 2, 3, 1, 2, 3, 1, 2, 3, 1, 2, 3, 1, 2, 3, 1, 2, 3, 1, 2, 3, 1, 2, 3, 1, 2, 3, 1, 2, 3, 1, 2, 3, 1, 2, 3, 1, 2, 3, 1, 2, 3, 1, 2, 3, 1, 2, 3, 1, 2, 3, 1, 2, 3, 1, 2, 3, 1, 2, 3, 1, 2, 3, 1, 2, 3, 1, 2, 3, 1, 2, 3, 1, 2, 3, 1, 2, 3, 1, 2, 3, 1, 2, 3, 1, 2, 3, 1, 2, 3, 1, 2, 3, 1, 2, 3, 1, 2, 3, 1, 2, 3, 1, 2, 3, 1, 2, 3, 1, 2, 3, 1, 2, 3, 1, 2, 3, 1, 2, 3, 1, 2, 3, 1, 2, 3, 1, 2, 3, 1, 2, 3, 1, 2, 3, 1, 2, 3, 1, 2, 3, 1, 2, 3, 1, 2, 3, 1, 2, 3, 1, 2, 3, 1, 2, 3, 1, 2, 3, 1, 2, 3, 1, 2, 3, 1, 2, 3, 1, 2, 3, 1, 2, 3, 1, 2, 3, 1, 2, 3, 1, 2, 3, 1, 2, 3, 1, 2, 3, 1, 2, 3, 1, 2, 3, 1, 2, 3, 1, 2, 3, 1, 2, 3, 1, 2, 3, 1, 2, 3, 1, 2, 3, 1, 2, 3, 1, 2, 3, 1, 2, 3, 1, 2, 3, 1, 2, 3, 1, 2, 3, 1, 2, 3, 1, 2, 3, 1, 2, 3, 1, 2, 3, 1, 2, 3, 1, 2, 3, 1, 2, 3, 1, 2, 3, 1, 2, 3, 1, 2, 3, 1, 2, 3, 1, 2, 3, 1, 2, 3, 1, 2, 3, 1, 2, 3, 1, 2, 3, 1, 2, 3, 1, 2, 3, 1, 2, 3, 1, 2, 3, 1, 2, 3, 1, 2, 3, 1, 2, 3, 1, 2, 3, 1, 2, 3, 1, 2, 3, 1, 2, 3, 1, 2, 3, 1, 2, 3, 1, 2, 3, 1, 2, 3, 1, 2, 3, 1, 2, 3, 1, 2, 3, 1, 2, 3, 1, 2, 3, 1, 2, 3, 1, 2, 3, 1, 2, 3, 1, 2, 3, 1, 2, 3, 1, 2, 3, 1, 2, 3, 1, 2, 3, 1, 2, 3, 1, 2, 3, 1, 2, 3, 1, 2, 3, 1, 2, 3, 1, 2, 3, 1, 2, 3, 1, 2, 3, 1, 2, 3, 1, 2, 3, 1, 2, 3, 1, 2, 3, 1, 2, 3, 1, 2, 3, 1, 2, 3, 1, 2, 3, 1, 2, 3, 1, 2, 3, 1, 2, 3, 1, 2, 3, 1, 2, 3, 1, 2, 3, 1, 2, 3, 1, 2, 3, 1, 2, 3, 1, 2, 3, 1, 2, 3, 1, 2, 3, 1, 2, 3, 1, 2, 3, 1, 2, 3, 1, 2, 3, 1, 2, 3, 1, 2, 3, 1, 2, 3, 1, 2, 3, 1, 2, 3, 1, 2, 3, 1, 2, 3, 1, 2, 3, 1, 2, 3, 1, 2, 3, 1, 2, 3, 1, 2, 3, 1, 2, 3, 1, 2, 3, 1, 2, 3, 1, 2, 3, 1, 2, 3, 1, 2, 3, 1, 2, 3, 1, 2, 3, 1, 2, 3, 1, 2, 3, 1, 2, 3, 1, 2, 3, 1, 2, 3, 1, 2, 3, 1, 2, 3, 1, 2, 3, 1, 2, 3, 1, 2, 3, 1, 2, 3, 1, 2, 3, 1, 2, 3, 1, 2, 3, 1, 2, 3, 1, 2, 3, 1, 2, 3, 1, 2, 3, 1, 2, 3, 1, 2, 3, 1, 2, 3, 1, 2, 3, 1, 2, 3, 1, 2, 3, 1, 2, 3, 1, 2, 3, 1, 2, 3, 1, 2, 3, 1, 2, 3, 1, 2, 3, 1, 2, 3, 1, 2, 3, 1, 2, 3, 1, 2, 3, 1, 2, 3, 1, 2, 3, 1, 2, 3, 1, 2, 3, 1, 2, 3, 1, 2, 3, 1, 2, 3, 1, 2, 3, 1, 2, 3, 1, 2, 3, 1, 2, 3, 1, 2, 3, 1, 2, 3, 1, 2, 3, 1, 2, 3, 1, 2, 3, 1, 2, 3, 1, 2, 3, 1, 2, 3, 1, 2, 3, 1, 2, 3, 1, 2, 3, 1, 2, 3, 1, 2, 3, 1, 2, 3, 1, 2, 3, 1, 2, 3, 1, 2, 3, 1, 2, 3, 1, 2, 3, 1, 2, 3, 1, 2, 3, 1, 2, 3, 1, 2, 3, 1, 2, 3, 1, 2, 3, 1, 2, 3, 1, 2, 3, 1, 2, 3, 1, 2, 3, 1, 2, 3], \"Freq\": [0.9509095126550186, 0.04056012139286809, 0.009013360309526241, 0.9604376268474053, 0.01655926942840354, 0.01655926942840354, 0.013253928439867302, 0.013253928439867302, 0.9807907045501805, 0.015849732145850885, 0.9668336608969039, 0.015849732145850885, 0.9261973621682861, 0.0418620276686231, 0.0327047091161118, 0.5913924123141407, 0.2874430194174051, 0.12108972419602664, 0.14265120451546145, 0.16095048439499587, 0.6966203135959124, 0.005548477898724111, 0.005548477898724111, 0.9931775438716158, 0.010592955826770644, 0.9816139066140797, 0.007061970551180429, 0.03554496674788643, 0.9448081483954328, 0.019492401119808687, 0.9735530036232061, 0.01937418912682997, 0.0048435472817074925, 0.014471577929328823, 0.014471577929328823, 0.98406729919436, 0.00903020266505278, 0.961716583828121, 0.03160570932768473, 0.9030206028898713, 0.047307704927974766, 0.050090511100208575, 0.015481000049753587, 0.9675625031095991, 0.015481000049753587, 0.9561206620586125, 0.02897335339571553, 0.02897335339571553, 0.07638120751361784, 0.04010013394464936, 0.8841124769701264, 0.19529409053868949, 0.14531117026889295, 0.6595684324261808, 0.011082373300454005, 0.03878830655158902, 0.9493899794055598, 0.3547853723264568, 0.019533127240445373, 0.625458706944057, 0.9751624093606656, 0.0152369126462604, 0.0152369126462604, 0.2369341813651987, 0.7087809213877019, 0.054179488571564204, 0.13251649408499508, 0.11505923139116338, 0.7522493197160199, 0.037383506069577646, 0.9065500221872579, 0.05607525910436647, 0.029854897167413758, 0.04071122341010967, 0.9309299753111745, 0.012878328307912551, 0.9658746230934413, 0.012878328307912551, 0.010144152145340478, 0.047339376678255565, 0.9434061495166645, 0.005870379458419505, 0.021524724680871517, 0.9744829900976378, 0.006456509349644492, 0.019369528048933476, 0.9684764024466738, 0.05040809009029701, 0.6596758148233088, 0.28991936208003194, 0.07746548308670166, 0.057719379554797313, 0.8642717622810441, 0.06754920154888903, 0.8846661130388318, 0.04764339819390241, 0.05708814712105447, 0.9342694846157183, 0.00878279186477761, 0.07738760692580406, 0.09145808091231387, 0.8312403093568883, 0.007790104373708783, 0.02337031312112635, 0.9737630467135978, 0.3058305124001089, 0.04894854551858337, 0.6453376241170031, 0.013818587200983312, 0.011054869760786649, 0.9728285389492252, 0.02633445551157806, 0.02633445551157806, 0.9480403984168102, 0.2158199216766354, 0.7491039862066442, 0.035157761434419635, 0.024842630333937712, 0.12348248607163156, 0.8519560873344522, 0.10568777848494332, 0.053944803601689816, 0.8410985704426739, 0.2201952444386779, 0.7435201626518613, 0.036410237269387684, 0.444196612631538, 0.30091414008262407, 0.2549338729415618, 0.07902301706335682, 0.8761850312989738, 0.045056983413317486, 0.8976690780312803, 0.04181282459534348, 0.06010593535580625, 0.060083592725244474, 0.857110843162161, 0.08215511658349754, 0.955043487164025, 0.027286956776115, 0.027286956776115, 0.7371941998395481, 0.07902971718618884, 0.1836738091125654, 0.023691910746924973, 0.11187846741603459, 0.8647547422627615, 0.016435683904723494, 0.9227462535080475, 0.05869887108829819, 0.008974374245560213, 0.9692324185205029, 0.017948748491120426, 0.9443613724127005, 0.023938184345062116, 0.032316548865833856, 0.9577558027212655, 0.017663529148547928, 0.023551372198063907, 0.8259778081468439, 0.11436615805110147, 0.05930097084131187, 0.245226739309292, 0.28464511941107995, 0.4701335812703384, 0.009041566418491012, 0.98251688414269, 0.009041566418491012, 0.04019221511601558, 0.9430816189722226, 0.017225235049720962, 0.08146989340513244, 0.05496763892394479, 0.863777183090561, 0.020316375279701794, 0.020316375279701794, 0.9751860134256862, 0.03563596028788971, 0.046481687332030064, 0.9180133248075938, 0.07868350422256236, 0.8519084267988778, 0.06932654696366304, 0.035015558409479806, 0.9422368444732747, 0.022282628078759876, 0.018908311901875658, 0.9643239069956585, 0.018908311901875658, 0.0234283854547252, 0.967257628059369, 0.010040736623453658, 0.038392797395316466, 0.07704677028311809, 0.8846013930471897, 0.04577292926435716, 0.9416145448667759, 0.009808484842362249, 0.012123629112240537, 0.018185443668360807, 0.969890328979243, 0.440875509762881, 0.30819972047948657, 0.2510688645958897, 0.8892970891484893, 0.09140858581839872, 0.01859157677662347, 0.016549658924716645, 0.9681550470959237, 0.016549658924716645, 0.02467788104952389, 0.9686068311938126, 0.012338940524761945, 0.5053578541597211, 0.36368775706469164, 0.1309629879454364, 0.603139267534159, 0.24884663707028845, 0.14797883106494306, 0.0484283088658616, 0.9241735608568589, 0.028249846838419267, 0.9599590135654752, 0.02526207930435461, 0.012631039652177305, 0.01381229579451463, 0.01381229579451463, 0.9806730014105388, 0.6236667186850358, 0.24087192276688038, 0.1354403811264028, 0.7763763769470984, 0.16384689537916292, 0.0599254848840457, 0.05401143403645406, 0.9162653988327029, 0.028934696805243246, 0.24351778068071994, 0.67634267001783, 0.08002527775020125, 0.5001769591170078, 0.3405021632332005, 0.15934937170741367, 0.3620090242982096, 0.5011363960268526, 0.13684496834079796, 0.007567390311743091, 0.015134780623486182, 0.9761933502148588, 0.01244939420388499, 0.01244939420388499, 0.9835021421069141, 0.019655025752868226, 0.15581074960455538, 0.8244389893066726, 0.8585892406138991, 0.07120100955997616, 0.0701883729795676, 0.9803801021597103, 0.012568975668714235, 0.006284487834357117, 0.014913459507863682, 0.02485576584643947, 0.9594325616725635, 0.05204412215748838, 0.7274654418175867, 0.22046735142729396, 0.9773073111826788, 0.007655148651561452, 0.015310297303122904, 0.9021813117805153, 0.06527842515666066, 0.03180230969170648, 0.3162332037131656, 0.5088880563238586, 0.17489582296762218, 0.8880102765959762, 0.0404501218161726, 0.0714382268332405, 0.37198795841895627, 0.450038416667229, 0.17804439549900591, 0.32950442249692513, 0.3615819453396912, 0.3089349375101797, 0.46304761719391224, 0.31915622503340435, 0.21778650591609477, 0.10123863441275088, 0.8887686431603604, 0.009591028523313241, 0.7977393479972967, 0.12423809517990686, 0.07787172472998947, 0.5644021714175425, 0.19967235910610587, 0.23589068026658988, 0.8678963080417786, 0.025749105125148757, 0.10602572698590665, 0.9659475246227127, 0.018575913935052167, 0.018575913935052167, 0.6676718642180706, 0.2644198724802954, 0.06777999088328138, 0.6727300751649719, 0.18021482603873965, 0.14719342677655142, 0.008002325448111913, 0.9789511464856906, 0.010669767264149217, 0.016538303712058, 0.016538303712058, 0.975759919011422, 0.8841002165680893, 0.08230788533057654, 0.03263933383798725, 0.016378708321754303, 0.9581544368226267, 0.028662739563070028, 0.011502249755197527, 0.011502249755197527, 0.9776912291917899, 0.9663108413523818, 0.020559805135157056, 0.020559805135157056, 0.9521349474921424, 0.04185208560405022, 0.010463021401012554, 0.9706408613454997, 0.012941878151273328, 0.012941878151273328, 0.01638811020732113, 0.9668985022319466, 0.01638811020732113, 0.01749425648742108, 0.01749425648742108, 0.9796783632955806, 0.020316578480898937, 0.020316578480898937, 0.9751957670831489, 0.02608656076015175, 0.9652027481256147, 0.008695520253383916, 0.010638974339643479, 0.9867648700019327, 0.0026597435849108697, 0.9353040925516349, 0.03695730456890958, 0.02558582624001433, 0.9476379342351787, 0.022562807957980446, 0.03008374394397393, 0.033459975386533704, 0.9552822972855373, 0.011153325128844569, 0.9575936348979369, 0.017538344961500675, 0.02279984844995088, 0.5459902101491615, 0.2979060540566317, 0.15613036312417336, 0.30035727013491226, 0.6602554318961761, 0.03920266626883546, 0.9479632656029325, 0.029623852050091642, 0.014811926025045821, 0.3839285385524961, 0.17958453272700428, 0.43658159526826695, 0.010080876021730944, 0.9677640980861706, 0.025202190054327358, 0.6735722629705934, 0.28624363987054285, 0.040146691170432715, 0.8812609056036982, 0.04947616312776573, 0.06916022802805963, 0.013691067668991197, 0.013691067668991197, 0.9857568721673662, 0.016291459746871875, 0.9774875848123126, 0.016291459746871875, 0.9586332814277657, 0.02738952232650759, 0.02738952232650759, 0.8850180696442512, 0.04281154965752008, 0.07233675631787875, 0.5043535631366605, 0.2926803703205141, 0.2029493429310607, 0.6338690667269672, 0.25541773729137884, 0.11073023292978852, 0.007406404462338301, 0.9924581979533322, 0.007406404462338301, 0.9830721633867021, 0.007072461607098577, 0.010608692410647864, 0.49440816877559624, 0.3144282093805357, 0.1911616169121493, 0.01191858520239762, 0.9773239865966048, 0.01191858520239762, 0.014973665736884221, 0.9240890854762833, 0.059894662947536884, 0.01634227726704547, 0.9641943587556827, 0.01634227726704547, 0.028331192678923953, 0.9632605510834145, 0.009443730892974652, 0.013691038039639378, 0.013691038039639378, 0.9857547388540352, 0.01623750702162393, 0.029227512638923075, 0.9547654128714871, 0.8514695965663953, 0.11323208247532168, 0.03506925388999464, 0.0018308973203920937, 0.0018308973203920937, 0.9960081422932989, 0.011245151838492045, 0.011245151838492045, 0.9895733617872999, 0.015518576308819055, 0.015518576308819055, 0.9776703074556005, 0.9670901146949662, 0.02197932078852196, 0.02197932078852196, 0.009482257699885657, 0.009482257699885657, 0.9861548007881084, 0.009856957751309037, 0.05585609392408455, 0.9364109863743586, 0.017431608292815592, 0.9761700643976732, 0.017431608292815592, 0.03973456043608419, 0.9309239873596868, 0.029383540490549656, 0.33654787487312837, 0.5852311938062786, 0.07810182750220279, 0.10597034790917152, 0.25361442814217455, 0.6405847997206099, 0.3357730360656887, 0.6045913298206598, 0.05970963959799078, 0.4571253374613641, 0.40548153208242044, 0.1374579481514741, 0.01749408172149745, 0.01749408172149745, 0.9796685764038572, 0.8560767254814834, 0.034908381705889224, 0.10924270039725334, 0.9531636213688417, 0.028452645413995274, 0.014226322706997637, 0.6011408543267768, 0.2805761021285283, 0.11832707110794242, 0.30879880723901193, 0.46647316928469335, 0.2247216927342906, 0.3324316444529085, 0.17825481869612736, 0.48932695328348685, 0.00951111541352928, 0.00951111541352928, 0.9796448875935159, 0.018343445141999995, 0.018343445141999995, 0.9722025925259997, 0.016244060190661613, 0.016244060190661613, 0.9746436114396968, 0.02474635840647629, 0.9460179299390079, 0.029342110681964746, 0.016733523802615204, 0.9789111424529894, 0.008366761901307602, 0.01315695371330025, 0.9736145747842184, 0.01315695371330025, 0.9672934999480614, 0.03335494827407108, 0.03335494827407108, 0.6292390818602348, 0.2290943547069534, 0.14166043214162147, 0.734958236537021, 0.18793202923354876, 0.07710499356526783, 0.030562681618535644, 0.029173468817693112, 0.9404970661703923, 0.9686030967337997, 0.017296483870246425, 0.017296483870246425, 0.25874918465742563, 0.5368708668640726, 0.20450619151960595, 0.9761402628807446, 0.00979404946034192, 0.013058732613789226, 0.9777312857846939, 0.006035378307312925, 0.01207075661462585, 0.9592187855239936, 0.020194079695241972, 0.010097039847620986, 0.018678306684031212, 0.009339153342015606, 0.971271947569623, 0.00228217678383053, 0.9973112545339415, 0.00228217678383053, 0.052925052237766994, 0.9184053182436037, 0.028019145302347233, 0.3107012240801258, 0.2882389192257842, 0.4012062772158669, 0.04400713979474846, 0.947201294629824, 0.00838231234185685, 0.3609183521994528, 0.21228999352842023, 0.4268626751592966, 0.5719367025459545, 0.28538956560671386, 0.14267066673392928, 0.9530091039646892, 0.026472475110130254, 0.026472475110130254, 0.9511028119181901, 0.03068073586832871, 0.03068073586832871, 0.2220387481458301, 0.5933622768265917, 0.1844690763467595, 0.007182750711496407, 0.007182750711496407, 0.9840368474750077, 0.017494235138301915, 0.017494235138301915, 0.9796771677449073, 0.8330807526724207, 0.046748941842205106, 0.12015938957879281, 0.08769731583962036, 0.017046550854071404, 0.8952519900349066, 0.0178821847666106, 0.9715987056525093, 0.005960728255536866, 0.008401500725537176, 0.016803001451074353, 0.9745740841623125, 0.9560584944242907, 0.02451432036985361, 0.02042860030821134, 0.25608875243924833, 0.11587114326916695, 0.6280486481476637, 0.8094496800550576, 0.12305822838674862, 0.06745414000458813, 0.00534829788254389, 0.9840868103880758, 0.00534829788254389, 0.01136669205410874, 0.014208365067635923, 0.9718521706262973, 0.017500823134767418, 0.011667215423178279, 0.9742124878353863, 0.5880351567846622, 0.22192785668880202, 0.1899847101466902, 0.3024768325561189, 0.6424473114875784, 0.0551872772490969, 0.01672010735600294, 0.01672010735600294, 0.9864863340041735, 0.5536737851617552, 0.3044320412549843, 0.14188628582969823, 0.05534320524402976, 0.9318599153251498, 0.01196609843114157, 0.9629940215314076, 0.029630585277889462, 0.014815292638944731, 0.0736554677886197, 0.027989077759675487, 0.897123597665388, 0.9108543072235666, 0.0332949355120886, 0.0570770323064376, 0.9449209484729436, 0.02392204932842895, 0.02990256166053619, 0.95440365853712, 0.01590672764228533, 0.03181345528457066, 0.17410977836239339, 0.11765684862049376, 0.7081768513167012, 0.023235538290109208, 0.005808884572527302, 0.9700837236120594, 0.10544886043340516, 0.02636221510835129, 0.8684023800398073, 0.06273152843002525, 0.037068630435924003, 0.9010528629039989, 0.014565006708393688, 0.04855002236131229, 0.9370154315733272, 0.009183832172748648, 0.027551496518245944, 0.9643023781386081, 0.010346878717784225, 0.9726065994717171, 0.010346878717784225, 0.9796771723895761, 0.007861763485393957, 0.0124266584123969, 0.38662021199791774, 0.45741836140787895, 0.15596364943367982, 0.013691097687926531, 0.013691097687926531, 0.9857590335307103, 0.08123874805693966, 0.8863871322648268, 0.032173761606708776, 0.10290314254702831, 0.8530276898570599, 0.04442266809407233, 0.12878447711249444, 0.19284307712699947, 0.6786207939036625, 0.01297976038526747, 0.9734820288950603, 0.02595952077053494, 0.020316475429906396, 0.020316475429906396, 0.975190820635507, 0.2537595129010277, 0.49981475216559157, 0.24644045294638706, 0.7223630267392848, 0.07036786263814059, 0.2072612313892128, 0.18350101100772317, 0.02975692070395511, 0.7865746039412134, 0.01660457767729596, 0.04243392073086746, 0.9427710214553596, 0.5956432018159693, 0.2475456269083292, 0.15681623424057053, 0.061538801655273964, 0.848684369096614, 0.08909348896360558, 0.5774129328264809, 0.28547565506412564, 0.13709118427324957, 0.5911188183652869, 0.215015732076547, 0.19388298511306626, 0.11127764382962783, 0.07061850473803305, 0.8181760094396354, 0.010324517526148873, 0.010324517526148873, 0.980829164984143, 0.4156733347466178, 0.46331627781876583, 0.12101307540325615, 0.9647426766940643, 0.017701700489799344, 0.017701700489799344, 0.02031650756456534, 0.02031650756456534, 0.9751923630991363, 0.2689249076645154, 0.36567228298284715, 0.3654793669802184, 0.19148176107031867, 0.1379795043006708, 0.6707493453963221, 0.25687672356557223, 0.0659003112812201, 0.6778317731782639, 0.4794905285191171, 0.27394045999156197, 0.2465653586991825, 0.015126893402095215, 0.9756846244351414, 0.007563446701047608, 0.014137384335142144, 0.9754795191248079, 0.014137384335142144, 0.0933637458211101, 0.8854497184324635, 0.02108213615315389, 0.966885818023429, 0.014012837942368536, 0.014012837942368536, 0.012083026850161363, 0.9787251748630704, 0.012083026850161363, 0.28824171545870947, 0.12280720975529524, 0.5891701261400735, 0.49871400456154547, 0.31951085976004995, 0.18177841298744365, 0.2119541137531652, 0.6139983619209337, 0.17400836448789264, 0.06933309195872414, 0.0451471296475413, 0.8852062205892919, 0.038253546770889255, 0.08149668659885102, 0.8798315757304529, 0.17719541218906684, 0.5678307526967824, 0.25496142380809306, 0.10041779540896692, 0.25264690015128377, 0.6473742980620634, 0.02147042183342654, 0.02147042183342654, 0.9661689825041943, 0.7209938783462186, 0.06058019755971953, 0.21844682075721525, 0.4038334191545738, 0.41929937988815325, 0.1769038595019918, 0.0109194378891346, 0.0109194378891346, 0.982749410022114, 0.1187188582798405, 0.727382095669966, 0.15387973225866117, 0.4291119522537106, 0.5080632193797463, 0.06289440926847664], \"Term\": [\"accent\", \"accent\", \"accent\", \"acoustic\", \"acoustic\", \"acoustic\", \"add_context\", \"add_context\", \"add_context\", \"agency\", \"agency\", \"agency\", \"album\", \"album\", \"album\", \"always\", \"always\", \"always\", \"amp\", \"amp\", \"amp\", \"amp_restrict_sr\", \"amp_restrict_sr\", \"amp_restrict_sr\", \"application\", \"application\", \"application\", \"apply\", \"apply\", \"apply\", \"attractive\", \"attractive\", \"attractive\", \"automoderator\", \"automoderator\", \"automoderator\", \"award\", \"award\", \"award\", \"awkward\", \"awkward\", \"awkward\", \"bachelor\", \"bachelor\", \"bachelor\", \"barber\", \"barber\", \"barber\", \"bathroom\", \"bathroom\", \"bathroom\", \"bed\", \"bed\", \"bed\", \"beer\", \"beer\", \"beer\", \"birthday\", \"birthday\", \"birthday\", \"bisexual\", \"bisexual\", \"bisexual\", \"book\", \"book\", \"book\", \"bored\", \"bored\", \"bored\", \"boss\", \"boss\", \"boss\", \"bottle\", \"bottle\", \"bottle\", \"brake\", \"brake\", \"brake\", \"bread\", \"bread\", \"bread\", \"breakfast\", \"breakfast\", \"breakfast\", \"butter\", \"butter\", \"butter\", \"buy\", \"buy\", \"buy\", \"cake\", \"cake\", \"cake\", \"car\", \"car\", \"car\", \"career\", \"career\", \"career\", \"cat\", \"cat\", \"cat\", \"cereal\", \"cereal\", \"cereal\", \"chat\", \"chat\", \"chat\", \"cheese\", \"cheese\", \"cheese\", \"chicken\", \"chicken\", \"chicken\", \"class\", \"class\", \"class\", \"coffee\", \"coffee\", \"coffee\", \"cold\", \"cold\", \"cold\", \"college\", \"college\", \"college\", \"come\", \"come\", \"come\", \"company\", \"company\", \"company\", \"compliment\", \"compliment\", \"compliment\", \"computer\", \"computer\", \"computer\", \"confess\", \"confess\", \"confess\", \"conversation\", \"conversation\", \"conversation\", \"cook\", \"cook\", \"cook\", \"cost\", \"cost\", \"cost\", \"credit_card\", \"credit_card\", \"credit_card\", \"crush\", \"crush\", \"crush\", \"dance\", \"dance\", \"dance\", \"date\", \"date\", \"date\", \"day\", \"day\", \"day\", \"debt\", \"debt\", \"debt\", \"degree\", \"degree\", \"degree\", \"dinner\", \"dinner\", \"dinner\", \"directory_directory\", \"directory_directory\", \"directory_directory\", \"drink\", \"drink\", \"drink\", \"drive\", \"drive\", \"drive\", \"driver\", \"driver\", \"driver\", \"driver_license\", \"driver_license\", \"driver_license\", \"earn\", \"earn\", \"earn\", \"eat\", \"eat\", \"eat\", \"education\", \"education\", \"education\", \"egg\", \"egg\", \"egg\", \"else\", \"else\", \"else\", \"emotion\", \"emotion\", \"emotion\", \"employer\", \"employer\", \"employer\", \"engineering\", \"engineering\", \"engineering\", \"even\", \"even\", \"even\", \"ever\", \"ever\", \"ever\", \"exam\", \"exam\", \"exam\", \"extrovert\", \"extrovert\", \"extrovert\", \"feedback_message\", \"feedback_message\", \"feedback_message\", \"feel\", \"feel\", \"feel\", \"feeling\", \"feeling\", \"feeling\", \"field\", \"field\", \"field\", \"finally\", \"finally\", \"finally\", \"find\", \"find\", \"find\", \"first\", \"first\", \"first\", \"flavor\", \"flavor\", \"flavor\", \"flooding_whenever\", \"flooding_whenever\", \"flooding_whenever\", \"food\", \"food\", \"food\", \"friend\", \"friend\", \"friend\", \"friendship\", \"friendship\", \"friendship\", \"fry\", \"fry\", \"fry\", \"game\", \"game\", \"game\", \"gay\", \"gay\", \"gay\", \"genre\", \"genre\", \"genre\", \"get\", \"get\", \"get\", \"girl\", \"girl\", \"girl\", \"give\", \"give\", \"give\", \"go\", \"go\", \"go\", \"good\", \"good\", \"good\", \"graduate\", \"graduate\", \"graduate\", \"group\", \"group\", \"group\", \"guy\", \"guy\", \"guy\", \"hair\", \"hair\", \"hair\", \"handsome\", \"handsome\", \"handsome\", \"happy\", \"happy\", \"happy\", \"hear\", \"hear\", \"hear\", \"hire\", \"hire\", \"hire\", \"https_plugdj\", \"https_plugdj\", \"https_plugdj\", \"hug\", \"hug\", \"hug\", \"industry\", \"industry\", \"industry\", \"influx\", \"influx\", \"influx\", \"initiate\", \"initiate\", \"initiate\", \"insecure\", \"insecure\", \"insecure\", \"instrumental\", \"instrumental\", \"instrumental\", \"insurance\", \"insurance\", \"insurance\", \"int_relationship\", \"int_relationship\", \"int_relationship\", \"int_weekend\", \"int_weekend\", \"int_weekend\", \"internship\", \"internship\", \"internship\", \"interview\", \"interview\", \"interview\", \"introvert\", \"introvert\", \"introvert\", \"introverted\", \"introverted\", \"introverted\", \"job\", \"job\", \"job\", \"kiss\", \"kiss\", \"kiss\", \"know\", \"know\", \"know\", \"learn\", \"learn\", \"learn\", \"lesbian\", \"lesbian\", \"lesbian\", \"let\", \"let\", \"let\", \"license\", \"license\", \"license\", \"life\", \"life\", \"life\", \"listen\", \"listen\", \"listen\", \"live_tgjdc\", \"live_tgjdc\", \"live_tgjdc\", \"loan\", \"loan\", \"loan\", \"lofi\", \"lofi\", \"lofi\", \"lonely\", \"lonely\", \"lonely\", \"look\", \"look\", \"look\", \"love\", \"love\", \"love\", \"lt_gt\", \"lt_gt\", \"lt_gt\", \"lyric\", \"lyric\", \"lyric\", \"make\", \"make\", \"make\", \"management\", \"management\", \"management\", \"manager\", \"manager\", \"manager\", \"manual\", \"manual\", \"manual\", \"math\", \"math\", \"math\", \"mdo_made\", \"mdo_made\", \"mdo_made\", \"meat\", \"meat\", \"meat\", \"meet\", \"meet\", \"meet\", \"megathread\", \"megathread\", \"megathread\", \"megathread_megathread\", \"megathread_megathread\", \"megathread_megathread\", \"megathreads_join\", \"megathreads_join\", \"megathreads_join\", \"melody\", \"melody\", \"melody\", \"metareddit_ideasforcc\", \"metareddit_ideasforcc\", \"metareddit_ideasforcc\", \"milk\", \"milk\", \"milk\", \"minimum_wage\", \"minimum_wage\", \"minimum_wage\", \"money\", \"money\", \"money\", \"month\", \"month\", \"month\", \"morning\", \"morning\", \"morning\", \"movie\", \"movie\", \"movie\", \"much\", \"much\", \"much\", \"mus_feedback\", \"mus_feedback\", \"mus_feedback\", \"music\", \"music\", \"music\", \"mutual\", \"mutual\", \"mutual\", \"never\", \"never\", \"never\", \"new\", \"new\", \"new\", \"night\", \"night\", \"night\", \"onion\", \"onion\", \"onion\", \"ora_introduce\", \"ora_introduce\", \"ora_introduce\", \"pasta\", \"pasta\", \"pasta\", \"pay\", \"pay\", \"pay\", \"paycheck\", \"paycheck\", \"paycheck\", \"payment\", \"payment\", \"payment\", \"penpal\", \"penpal\", \"penpal\", \"people\", \"people\", \"people\", \"person\", \"person\", \"person\", \"pizza\", \"pizza\", \"pizza\", \"platonic\", \"platonic\", \"platonic\", \"play\", \"play\", \"play\", \"playlist\", \"playlist\", \"playlist\", \"poem\", \"poem\", \"poem\", \"poetry\", \"poetry\", \"poetry\", \"poll\", \"poll\", \"poll\", \"pop_pop\", \"pop_pop\", \"pop_pop\", \"position\", \"position\", \"position\", \"post\", \"post\", \"post\", \"program\", \"program\", \"program\", \"question\", \"question\", \"question\", \"really\", \"really\", \"really\", \"reciprocate\", \"reciprocate\", \"reciprocate\", \"reconnect\", \"reconnect\", \"reconnect\", \"reddit\", \"reddit\", \"reddit\", \"redirect\", \"redirect\", \"redirect\", \"rel_vent\", \"rel_vent\", \"rel_vent\", \"relationship\", \"relationship\", \"relationship\", \"remove\", \"remove\", \"remove\", \"resume\", \"resume\", \"resume\", \"rice\", \"rice\", \"rice\", \"romantic\", \"romantic\", \"romantic\", \"room\", \"room\", \"room\", \"sad\", \"sad\", \"sad\", \"salary\", \"salary\", \"salary\", \"sandwich\", \"sandwich\", \"sandwich\", \"sauce\", \"sauce\", \"sauce\", \"say\", \"say\", \"say\", \"school\", \"school\", \"school\", \"searchq_title\", \"searchq_title\", \"searchq_title\", \"see\", \"see\", \"see\", \"semester\", \"semester\", \"semester\", \"sexuality\", \"sexuality\", \"sexuality\", \"shower\", \"shower\", \"shower\", \"shy\", \"shy\", \"shy\", \"singe\", \"singe\", \"singe\", \"singer\", \"singer\", \"singer\", \"sleep\", \"sleep\", \"sleep\", \"slice\", \"slice\", \"slice\", \"smell\", \"smell\", \"smell\", \"smoke\", \"smoke\", \"smoke\", \"snow\", \"snow\", \"snow\", \"soda\", \"soda\", \"soda\", \"software\", \"software\", \"software\", \"song\", \"song\", \"song\", \"start\", \"start\", \"start\", \"stay_updated\", \"stay_updated\", \"stay_updated\", \"student\", \"student\", \"student\", \"study\", \"study\", \"study\", \"subreddit\", \"subreddit\", \"subreddit\", \"subscription\", \"subscription\", \"subscription\", \"support_page\", \"support_page\", \"support_page\", \"take\", \"take\", \"take\", \"talk\", \"talk\", \"talk\", \"taste\", \"taste\", \"taste\", \"tea\", \"tea\", \"tea\", \"tell\", \"tell\", \"tell\", \"test\", \"test\", \"test\", \"thing\", \"thing\", \"thing\", \"think\", \"think\", \"think\", \"thread\", \"thread\", \"thread\", \"thread_searchq\", \"thread_searchq\", \"thread_searchq\", \"time\", \"time\", \"time\", \"tinder\", \"tinder\", \"tinder\", \"title_aweekend\", \"title_aweekend\", \"title_aweekend\", \"today\", \"today\", \"today\", \"tonight\", \"tonight\", \"tonight\", \"topic\", \"topic\", \"topic\", \"try\", \"try\", \"try\", \"unemployed\", \"unemployed\", \"unemployed\", \"unemployment\", \"unemployment\", \"unemployment\", \"university\", \"university\", \"university\", \"upbeat\", \"upbeat\", \"upbeat\", \"wage\", \"wage\", \"wage\", \"wake\", \"wake\", \"wake\", \"want\", \"want\", \"want\", \"watch\", \"watch\", \"watch\", \"water\", \"water\", \"water\", \"weather\", \"weather\", \"weather\", \"week\", \"week\", \"week\", \"weekend\", \"weekend\", \"weekend\", \"weekly_megathread\", \"weekly_megathread\", \"weekly_megathread\", \"weird\", \"weird\", \"weird\", \"well\", \"well\", \"well\", \"wiki_directory\", \"wiki_directory\", \"wiki_directory\", \"work\", \"work\", \"work\", \"year\", \"year\", \"year\"]}, \"R\": 30, \"lambda.step\": 0.01, \"plot.opts\": {\"xlab\": \"PC1\", \"ylab\": \"PC2\"}, \"topic.order\": [2, 1, 3]};\n",
       "\n",
       "function LDAvis_load_lib(url, callback){\n",
       "  var s = document.createElement('script');\n",
       "  s.src = url;\n",
       "  s.async = true;\n",
       "  s.onreadystatechange = s.onload = callback;\n",
       "  s.onerror = function(){console.warn(\"failed to load library \" + url);};\n",
       "  document.getElementsByTagName(\"head\")[0].appendChild(s);\n",
       "}\n",
       "\n",
       "if(typeof(LDAvis) !== \"undefined\"){\n",
       "   // already loaded: just create the visualization\n",
       "   !function(LDAvis){\n",
       "       new LDAvis(\"#\" + \"ldavis_el2139216935969759524621974445\", ldavis_el2139216935969759524621974445_data);\n",
       "   }(LDAvis);\n",
       "}else if(typeof define === \"function\" && define.amd){\n",
       "   // require.js is available: use it to load d3/LDAvis\n",
       "   require.config({paths: {d3: \"https://d3js.org/d3.v5\"}});\n",
       "   require([\"d3\"], function(d3){\n",
       "      window.d3 = d3;\n",
       "      LDAvis_load_lib(\"https://cdn.jsdelivr.net/gh/bmabey/pyLDAvis@3.3.1/pyLDAvis/js/ldavis.v3.0.0.js\", function(){\n",
       "        new LDAvis(\"#\" + \"ldavis_el2139216935969759524621974445\", ldavis_el2139216935969759524621974445_data);\n",
       "      });\n",
       "    });\n",
       "}else{\n",
       "    // require.js not available: dynamically load d3 & LDAvis\n",
       "    LDAvis_load_lib(\"https://d3js.org/d3.v5.js\", function(){\n",
       "         LDAvis_load_lib(\"https://cdn.jsdelivr.net/gh/bmabey/pyLDAvis@3.3.1/pyLDAvis/js/ldavis.v3.0.0.js\", function(){\n",
       "                 new LDAvis(\"#\" + \"ldavis_el2139216935969759524621974445\", ldavis_el2139216935969759524621974445_data);\n",
       "            })\n",
       "         });\n",
       "}\n",
       "</script>"
      ],
      "text/plain": [
       "PreparedData(topic_coordinates=              x         y  topics  cluster       Freq\n",
       "topic                                                \n",
       "1     -0.043569  0.051743       1        1  41.174765\n",
       "0     -0.036093 -0.055085       2        1  35.496239\n",
       "2      0.079662  0.003342       3        1  23.328996, topic_info=       Term          Freq         Total Category  logprob  loglift\n",
       "219     job   7172.000000   7172.000000  Default  30.0000  30.0000\n",
       "352  remove   4869.000000   4869.000000  Default  29.0000  29.0000\n",
       "0       day  18011.000000  18011.000000  Default  28.0000  28.0000\n",
       "570  friend  15800.000000  15800.000000  Default  27.0000  27.0000\n",
       "229    work  14732.000000  14732.000000  Default  26.0000  26.0000\n",
       "..      ...           ...           ...      ...      ...      ...\n",
       "127  really   2958.121226  20733.063549   Topic3  -5.2873  -0.4917\n",
       "63     time   2667.080135  22038.940760   Topic3  -5.3908  -0.6564\n",
       "709    else   2126.580800   8471.779260   Topic3  -5.6173   0.0732\n",
       "133   thing   2355.337470  17178.347481   Topic3  -5.5151  -0.5315\n",
       "229    work   2267.279688  14732.284536   Topic3  -5.5533  -0.4160\n",
       "\n",
       "[327 rows x 6 columns], token_table=      Topic      Freq      Term\n",
       "term                           \n",
       "728       1  0.950910    accent\n",
       "728       2  0.040560    accent\n",
       "728       3  0.009013    accent\n",
       "7075      1  0.960438  acoustic\n",
       "7075      2  0.016559  acoustic\n",
       "...     ...       ...       ...\n",
       "229       2  0.727382      work\n",
       "229       3  0.153880      work\n",
       "207       1  0.429112      year\n",
       "207       2  0.508063      year\n",
       "207       3  0.062894      year\n",
       "\n",
       "[774 rows x 3 columns], R=30, lambda_step=0.01, plot_opts={'xlab': 'PC1', 'ylab': 'PC2'}, topic_order=[2, 1, 3])"
      ]
     },
     "execution_count": 21,
     "metadata": {},
     "output_type": "execute_result"
    }
   ],
   "source": [
    "# Visualize with pyLDAvis\n",
    "pyLDAvis.enable_notebook()\n",
    "LDAvis_prepared = pyLDAvis.gensim_models.prepare(lda_model, corpus, id2word)\n",
    "pyLDAvis.save_html(LDAvis_prepared, 'ldavis.html')\n",
    "LDAvis_prepared"
   ]
  },
  {
   "cell_type": "code",
   "execution_count": null,
   "metadata": {},
   "outputs": [],
   "source": [
    "'''\n",
    "import json\n",
    "\n",
    "topic_words = {\n",
    "    'topic1': [],\n",
    "    'topic2': [],\n",
    "    'topic3': [],\n",
    "    'topic4': [],\n",
    "    'topic5': []\n",
    "}\n",
    "for i in range(1, num_topics+1):\n",
    "    topic_words['topic' + str(i)] = ' '.join(LDAvis_prepared.topic_info[LDAvis_prepared.topic_info['Category'] == 'Topic' + str(i)].sort_values(by=['Freq'], ascending=False)['Term'].tolist()).replace('_', ' ').split()[:30]\n",
    "\n",
    "dict_tw = open(\"topic_words.json\", 'w', encoding = \"utf-8\")\n",
    "json.dump(topic_words, dict_tw)\n",
    "dict_tw.close()\n",
    "'''"
   ]
  }
 ],
 "metadata": {
  "interpreter": {
   "hash": "71ff87c67ba816b6af4ee8e83b06c07dc669ccb76fd16d8077dc452b70bfd898"
  },
  "kernelspec": {
   "display_name": "Python 3.9.0 64-bit",
   "language": "python",
   "name": "python3"
  },
  "language_info": {
   "codemirror_mode": {
    "name": "ipython",
    "version": 3
   },
   "file_extension": ".py",
   "mimetype": "text/x-python",
   "name": "python",
   "nbconvert_exporter": "python",
   "pygments_lexer": "ipython3",
   "version": "3.9.0"
  },
  "orig_nbformat": 4
 },
 "nbformat": 4,
 "nbformat_minor": 2
}
